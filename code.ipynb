{
 "cells": [
  {
   "cell_type": "markdown",
   "metadata": {},
   "source": [
    "**Make sure that you've download the dataset and put it in the same folder as this notebook.**"
   ]
  },
  {
   "cell_type": "markdown",
   "metadata": {},
   "source": [
    "# Load the train and val dataset"
   ]
  },
  {
   "cell_type": "code",
   "execution_count": 7,
   "metadata": {},
   "outputs": [],
   "source": [
    "import pickle\n",
    "import numpy as np\n",
    "import random\n",
    "import matplotlib.pyplot as plt\n",
    "import cv2\n",
    "from PIL import Image\n",
    "import imageio"
   ]
  },
  {
   "cell_type": "code",
   "execution_count": 8,
   "metadata": {},
   "outputs": [],
   "source": [
    "def load_data_from_pkl(filename):\n",
    "    with open(filename, 'rb') as file:\n",
    "        data = pickle.load(file)\n",
    "    return data"
   ]
  },
  {
   "cell_type": "code",
   "execution_count": 9,
   "metadata": {},
   "outputs": [],
   "source": [
    "train_set = load_data_from_pkl('train_simple_dict.pkl')\n",
    "val_set = load_data_from_pkl('val_simple_dict.pkl')\n",
    "\n",
    "train_left = train_set.keys()\n",
    "train_right = train_set.values()\n",
    "\n",
    "val_left = val_set.keys()\n",
    "val_right = val_set.values() # a list"
   ]
  },
  {
   "cell_type": "code",
   "execution_count": 10,
   "metadata": {},
   "outputs": [],
   "source": [
    "test_set = load_data_from_pkl('test_simple_dict.pkl')\n",
    "test_left = test_set.keys()\n",
    "test_right = test_set.values() # a list\n",
    "test_left = list(test_left)\n"
   ]
  },
  {
   "cell_type": "markdown",
   "metadata": {},
   "source": [
    "### Feat"
   ]
  },
  {
   "cell_type": "code",
   "execution_count": 11,
   "metadata": {},
   "outputs": [],
   "source": [
    "from scipy.spatial import distance\n",
    "\n",
    "def find_most_similar_using_l2(left_feature, right_features):\n",
    "    # for right_feat in right_features:\n",
    "    #     if left_feature.shape != right_feat.shape:\n",
    "    #         print(f\"Left feature shape: {left_feature.shape}\")\n",
    "    #         print(f\"Right feature shape: {right_feat.shape}\")\n",
    "    #         break\n",
    "        \n",
    "    distances = [distance.euclidean(left_feature, right_feat) for right_feat in right_features]\n",
    "    return np.argsort(distances)\n",
    "\n",
    "def find_most_similar_using_l1(left_feature, right_features):\n",
    "    distances = [distance.cityblock(left_feature, right_feat) for right_feat in right_features]\n",
    "    return np.argsort(distances)\n",
    "\n",
    "def find_most_similar_using_cosine(left_feature, right_features):\n",
    "    distances = [distance.cosine(left_feature, right_feat) for right_feat in right_features]\n",
    "    return np.argsort(distances)"
   ]
  },
  {
   "cell_type": "code",
   "execution_count": 12,
   "metadata": {},
   "outputs": [
    {
     "data": {
      "text/plain": [
       "{'resnet50': {'L1': 0.335, 'L2': 0.3825, 'Cosine': 0.475},\n",
       " 'resnet101': {'L1': 0.3325, 'L2': 0.39, 'Cosine': 0.4275},\n",
       " 'densenet201': {'L1': 0.3325, 'L2': 0.38, 'Cosine': 0.465},\n",
       " 'vgg16': {'L1': 0.3025, 'L2': 0.3375, 'Cosine': 0.455}}"
      ]
     },
     "execution_count": 12,
     "metadata": {},
     "output_type": "execute_result"
    }
   ],
   "source": [
    "def compute_top2_accuracy_for_model(left_feat_path, right_feat_path, val_left, val_right):\n",
    "    # Load features\n",
    "    left_feat = load_data_from_pkl(left_feat_path)\n",
    "    right_feat = load_data_from_pkl(right_feat_path)\n",
    "\n",
    "    # Extract features for val set\n",
    "    val_left_features = [left_feat[filename] for filename in val_left]\n",
    "    val_right_feat_list = [[right_feat[f] for f in filenames] for filenames in val_right]\n",
    "\n",
    "    top2_acc_count_l2 = 0\n",
    "    top2_acc_count_cosine = 0\n",
    "    top2_acc_count_l1 = 0\n",
    "\n",
    "    for i, left_feature in enumerate(val_left_features):\n",
    "        indices_l2 = find_most_similar_using_l2(left_feature, val_right_feat_list[i])\n",
    "        indices_cosine = find_most_similar_using_cosine(left_feature, val_right_feat_list[i])\n",
    "        indices_l1 = find_most_similar_using_l1(left_feature, val_right_feat_list[i])\n",
    "\n",
    "        # Check if the correct file (the first one in val_right) is in the top 2 for L2 distance\n",
    "        if 0 in indices_l2[:2]:\n",
    "            top2_acc_count_l2 += 1\n",
    "        \n",
    "        if 0 in indices_l1[:2]:\n",
    "            top2_acc_count_l1 += 1\n",
    "\n",
    "        # Check if the correct file (the first one in val_right) is in the top 2 for cosine distance\n",
    "        if 0 in indices_cosine[:2]:\n",
    "            top2_acc_count_cosine += 1\n",
    "\n",
    "    top2_acc_l2 = top2_acc_count_l2 / len(val_left)\n",
    "    top2_acc_cosine = top2_acc_count_cosine / len(val_left)\n",
    "    top2_acc_l1 = top2_acc_count_l1 / len(val_left)\n",
    "\n",
    "    return top2_acc_l2, top2_acc_cosine, top2_acc_l1\n",
    "\n",
    "# Compute Top-2 accuracy for different models\n",
    "models = ['resnet50', 'resnet101', 'densenet201', 'vgg16']\n",
    "results = {}\n",
    "\n",
    "for model in models:\n",
    "    left_path = f'feat/{model}/{model}_train_left_features.pkl'\n",
    "    right_path = f'feat/{model}/{model}_train_right_features.pkl'\n",
    "    l2_acc, cosine_acc, top2_acc_l1 = compute_top2_accuracy_for_model(left_path, right_path, val_left, val_right)\n",
    "    results[model] = {\n",
    "        'L1': top2_acc_l1,\n",
    "        'L2': l2_acc,\n",
    "        'Cosine': cosine_acc\n",
    "    }\n",
    "\n",
    "results"
   ]
  },
  {
   "cell_type": "code",
   "execution_count": 13,
   "metadata": {},
   "outputs": [
    {
     "ename": "KeyboardInterrupt",
     "evalue": "",
     "output_type": "error",
     "traceback": [
      "\u001b[0;31m---------------------------------------------------------------------------\u001b[0m",
      "\u001b[0;31mKeyboardInterrupt\u001b[0m                         Traceback (most recent call last)",
      "\u001b[1;32m/Users/lujiema/Documents/GitHub/CVFinalProject/code.ipynb Cell 10\u001b[0m line \u001b[0;36m2\n\u001b[1;32m      <a href='vscode-notebook-cell:/Users/lujiema/Documents/GitHub/CVFinalProject/code.ipynb#X12sZmlsZQ%3D%3D?line=0'>1</a>\u001b[0m \u001b[39mimport\u001b[39;00m \u001b[39mnumpy\u001b[39;00m \u001b[39mas\u001b[39;00m \u001b[39mnp\u001b[39;00m\n\u001b[0;32m----> <a href='vscode-notebook-cell:/Users/lujiema/Documents/GitHub/CVFinalProject/code.ipynb#X12sZmlsZQ%3D%3D?line=1'>2</a>\u001b[0m \u001b[39mfrom\u001b[39;00m \u001b[39mkeras\u001b[39;00m\u001b[39m.\u001b[39;00m\u001b[39mmodels\u001b[39;00m \u001b[39mimport\u001b[39;00m Model, Sequential\n\u001b[1;32m      <a href='vscode-notebook-cell:/Users/lujiema/Documents/GitHub/CVFinalProject/code.ipynb#X12sZmlsZQ%3D%3D?line=2'>3</a>\u001b[0m \u001b[39mfrom\u001b[39;00m \u001b[39mkeras\u001b[39;00m\u001b[39m.\u001b[39;00m\u001b[39mlayers\u001b[39;00m \u001b[39mimport\u001b[39;00m Input, Flatten, Dense, Dropout, Lambda, Subtract\n\u001b[1;32m      <a href='vscode-notebook-cell:/Users/lujiema/Documents/GitHub/CVFinalProject/code.ipynb#X12sZmlsZQ%3D%3D?line=3'>4</a>\u001b[0m \u001b[39mfrom\u001b[39;00m \u001b[39mkeras\u001b[39;00m\u001b[39m.\u001b[39;00m\u001b[39moptimizers\u001b[39;00m \u001b[39mimport\u001b[39;00m RMSprop\n",
      "File \u001b[0;32m~/anaconda3/lib/python3.11/site-packages/keras/__init__.py:3\u001b[0m\n\u001b[1;32m      1\u001b[0m \u001b[39m\"\"\"AUTOGENERATED. DO NOT EDIT.\"\"\"\u001b[39;00m\n\u001b[0;32m----> 3\u001b[0m \u001b[39mfrom\u001b[39;00m \u001b[39mkeras\u001b[39;00m \u001b[39mimport\u001b[39;00m __internal__\n\u001b[1;32m      4\u001b[0m \u001b[39mfrom\u001b[39;00m \u001b[39mkeras\u001b[39;00m \u001b[39mimport\u001b[39;00m activations\n\u001b[1;32m      5\u001b[0m \u001b[39mfrom\u001b[39;00m \u001b[39mkeras\u001b[39;00m \u001b[39mimport\u001b[39;00m applications\n",
      "File \u001b[0;32m~/anaconda3/lib/python3.11/site-packages/keras/__internal__/__init__.py:3\u001b[0m\n\u001b[1;32m      1\u001b[0m \u001b[39m\"\"\"AUTOGENERATED. DO NOT EDIT.\"\"\"\u001b[39;00m\n\u001b[0;32m----> 3\u001b[0m \u001b[39mfrom\u001b[39;00m \u001b[39mkeras\u001b[39;00m\u001b[39m.\u001b[39;00m\u001b[39m__internal__\u001b[39;00m \u001b[39mimport\u001b[39;00m backend\n\u001b[1;32m      4\u001b[0m \u001b[39mfrom\u001b[39;00m \u001b[39mkeras\u001b[39;00m\u001b[39m.\u001b[39;00m\u001b[39m__internal__\u001b[39;00m \u001b[39mimport\u001b[39;00m layers\n\u001b[1;32m      5\u001b[0m \u001b[39mfrom\u001b[39;00m \u001b[39mkeras\u001b[39;00m\u001b[39m.\u001b[39;00m\u001b[39m__internal__\u001b[39;00m \u001b[39mimport\u001b[39;00m losses\n",
      "File \u001b[0;32m~/anaconda3/lib/python3.11/site-packages/keras/__internal__/backend/__init__.py:3\u001b[0m\n\u001b[1;32m      1\u001b[0m \u001b[39m\"\"\"AUTOGENERATED. DO NOT EDIT.\"\"\"\u001b[39;00m\n\u001b[0;32m----> 3\u001b[0m \u001b[39mfrom\u001b[39;00m \u001b[39mkeras\u001b[39;00m\u001b[39m.\u001b[39;00m\u001b[39msrc\u001b[39;00m\u001b[39m.\u001b[39;00m\u001b[39mbackend\u001b[39;00m \u001b[39mimport\u001b[39;00m _initialize_variables \u001b[39mas\u001b[39;00m initialize_variables\n\u001b[1;32m      4\u001b[0m \u001b[39mfrom\u001b[39;00m \u001b[39mkeras\u001b[39;00m\u001b[39m.\u001b[39;00m\u001b[39msrc\u001b[39;00m\u001b[39m.\u001b[39;00m\u001b[39mbackend\u001b[39;00m \u001b[39mimport\u001b[39;00m track_variable\n",
      "File \u001b[0;32m~/anaconda3/lib/python3.11/site-packages/keras/src/__init__.py:21\u001b[0m\n\u001b[1;32m     15\u001b[0m \u001b[39m\"\"\"Implementation of the Keras API, the high-level API of TensorFlow.\u001b[39;00m\n\u001b[1;32m     16\u001b[0m \n\u001b[1;32m     17\u001b[0m \u001b[39mDetailed documentation and user guides are available at\u001b[39;00m\n\u001b[1;32m     18\u001b[0m \u001b[39m[keras.io](https://keras.io).\u001b[39;00m\n\u001b[1;32m     19\u001b[0m \u001b[39m\"\"\"\u001b[39;00m\n\u001b[1;32m     20\u001b[0m \u001b[39mfrom\u001b[39;00m \u001b[39mkeras\u001b[39;00m\u001b[39m.\u001b[39;00m\u001b[39msrc\u001b[39;00m \u001b[39mimport\u001b[39;00m distribute\n\u001b[0;32m---> 21\u001b[0m \u001b[39mfrom\u001b[39;00m \u001b[39mkeras\u001b[39;00m\u001b[39m.\u001b[39;00m\u001b[39msrc\u001b[39;00m \u001b[39mimport\u001b[39;00m models\n\u001b[1;32m     22\u001b[0m \u001b[39mfrom\u001b[39;00m \u001b[39mkeras\u001b[39;00m\u001b[39m.\u001b[39;00m\u001b[39msrc\u001b[39;00m\u001b[39m.\u001b[39;00m\u001b[39mengine\u001b[39;00m\u001b[39m.\u001b[39;00m\u001b[39minput_layer\u001b[39;00m \u001b[39mimport\u001b[39;00m Input\n\u001b[1;32m     23\u001b[0m \u001b[39mfrom\u001b[39;00m \u001b[39mkeras\u001b[39;00m\u001b[39m.\u001b[39;00m\u001b[39msrc\u001b[39;00m\u001b[39m.\u001b[39;00m\u001b[39mengine\u001b[39;00m\u001b[39m.\u001b[39;00m\u001b[39msequential\u001b[39;00m \u001b[39mimport\u001b[39;00m Sequential\n",
      "File \u001b[0;32m~/anaconda3/lib/python3.11/site-packages/keras/src/models/__init__.py:18\u001b[0m\n\u001b[1;32m      1\u001b[0m \u001b[39m# Copyright 2022 The TensorFlow Authors. All Rights Reserved.\u001b[39;00m\n\u001b[1;32m      2\u001b[0m \u001b[39m#\u001b[39;00m\n\u001b[1;32m      3\u001b[0m \u001b[39m# Licensed under the Apache License, Version 2.0 (the \"License\");\u001b[39;00m\n\u001b[0;32m   (...)\u001b[0m\n\u001b[1;32m     13\u001b[0m \u001b[39m# limitations under the License.\u001b[39;00m\n\u001b[1;32m     14\u001b[0m \u001b[39m# ==============================================================================\u001b[39;00m\n\u001b[1;32m     15\u001b[0m \u001b[39m\"\"\"Keras models API.\"\"\"\u001b[39;00m\n\u001b[0;32m---> 18\u001b[0m \u001b[39mfrom\u001b[39;00m \u001b[39mkeras\u001b[39;00m\u001b[39m.\u001b[39;00m\u001b[39msrc\u001b[39;00m\u001b[39m.\u001b[39;00m\u001b[39mengine\u001b[39;00m\u001b[39m.\u001b[39;00m\u001b[39mfunctional\u001b[39;00m \u001b[39mimport\u001b[39;00m Functional\n\u001b[1;32m     19\u001b[0m \u001b[39mfrom\u001b[39;00m \u001b[39mkeras\u001b[39;00m\u001b[39m.\u001b[39;00m\u001b[39msrc\u001b[39;00m\u001b[39m.\u001b[39;00m\u001b[39mengine\u001b[39;00m\u001b[39m.\u001b[39;00m\u001b[39msequential\u001b[39;00m \u001b[39mimport\u001b[39;00m Sequential\n\u001b[1;32m     20\u001b[0m \u001b[39mfrom\u001b[39;00m \u001b[39mkeras\u001b[39;00m\u001b[39m.\u001b[39;00m\u001b[39msrc\u001b[39;00m\u001b[39m.\u001b[39;00m\u001b[39mengine\u001b[39;00m\u001b[39m.\u001b[39;00m\u001b[39mtraining\u001b[39;00m \u001b[39mimport\u001b[39;00m Model\n",
      "File \u001b[0;32m~/anaconda3/lib/python3.11/site-packages/keras/src/engine/functional.py:23\u001b[0m\n\u001b[1;32m     20\u001b[0m \u001b[39mimport\u001b[39;00m \u001b[39mitertools\u001b[39;00m\n\u001b[1;32m     21\u001b[0m \u001b[39mimport\u001b[39;00m \u001b[39mwarnings\u001b[39;00m\n\u001b[0;32m---> 23\u001b[0m \u001b[39mimport\u001b[39;00m \u001b[39mtensorflow\u001b[39;00m\u001b[39m.\u001b[39;00m\u001b[39mcompat\u001b[39;00m\u001b[39m.\u001b[39;00m\u001b[39mv2\u001b[39;00m \u001b[39mas\u001b[39;00m \u001b[39mtf\u001b[39;00m\n\u001b[1;32m     25\u001b[0m \u001b[39mfrom\u001b[39;00m \u001b[39mkeras\u001b[39;00m\u001b[39m.\u001b[39;00m\u001b[39msrc\u001b[39;00m \u001b[39mimport\u001b[39;00m backend\n\u001b[1;32m     26\u001b[0m \u001b[39mfrom\u001b[39;00m \u001b[39mkeras\u001b[39;00m\u001b[39m.\u001b[39;00m\u001b[39msrc\u001b[39;00m\u001b[39m.\u001b[39;00m\u001b[39mdtensor\u001b[39;00m \u001b[39mimport\u001b[39;00m layout_map \u001b[39mas\u001b[39;00m layout_map_lib\n",
      "File \u001b[0;32m~/anaconda3/lib/python3.11/site-packages/tensorflow/__init__.py:38\u001b[0m\n\u001b[1;32m     35\u001b[0m \u001b[39mimport\u001b[39;00m \u001b[39msys\u001b[39;00m \u001b[39mas\u001b[39;00m \u001b[39m_sys\u001b[39;00m\n\u001b[1;32m     36\u001b[0m \u001b[39mimport\u001b[39;00m \u001b[39mtyping\u001b[39;00m \u001b[39mas\u001b[39;00m \u001b[39m_typing\u001b[39;00m\n\u001b[0;32m---> 38\u001b[0m \u001b[39mfrom\u001b[39;00m \u001b[39mtensorflow\u001b[39;00m\u001b[39m.\u001b[39;00m\u001b[39mpython\u001b[39;00m\u001b[39m.\u001b[39;00m\u001b[39mtools\u001b[39;00m \u001b[39mimport\u001b[39;00m module_util \u001b[39mas\u001b[39;00m _module_util\n\u001b[1;32m     39\u001b[0m \u001b[39mfrom\u001b[39;00m \u001b[39mtensorflow\u001b[39;00m\u001b[39m.\u001b[39;00m\u001b[39mpython\u001b[39;00m\u001b[39m.\u001b[39;00m\u001b[39mutil\u001b[39;00m\u001b[39m.\u001b[39;00m\u001b[39mlazy_loader\u001b[39;00m \u001b[39mimport\u001b[39;00m LazyLoader \u001b[39mas\u001b[39;00m _LazyLoader\n\u001b[1;32m     41\u001b[0m \u001b[39m# Make sure code inside the TensorFlow codebase can use tf2.enabled() at import.\u001b[39;00m\n",
      "File \u001b[0;32m~/anaconda3/lib/python3.11/site-packages/tensorflow/python/__init__.py:36\u001b[0m\n\u001b[1;32m     27\u001b[0m \u001b[39mimport\u001b[39;00m \u001b[39mtraceback\u001b[39;00m\n\u001b[1;32m     29\u001b[0m \u001b[39m# We aim to keep this file minimal and ideally remove completely.\u001b[39;00m\n\u001b[1;32m     30\u001b[0m \u001b[39m# If you are adding a new file with @tf_export decorators,\u001b[39;00m\n\u001b[1;32m     31\u001b[0m \u001b[39m# import it in modules_with_exports.py instead.\u001b[39;00m\n\u001b[1;32m     32\u001b[0m \n\u001b[1;32m     33\u001b[0m \u001b[39m# go/tf-wildcard-import\u001b[39;00m\n\u001b[1;32m     34\u001b[0m \u001b[39m# pylint: disable=wildcard-import,g-bad-import-order,g-import-not-at-top\u001b[39;00m\n\u001b[0;32m---> 36\u001b[0m \u001b[39mfrom\u001b[39;00m \u001b[39mtensorflow\u001b[39;00m\u001b[39m.\u001b[39;00m\u001b[39mpython\u001b[39;00m \u001b[39mimport\u001b[39;00m pywrap_tensorflow \u001b[39mas\u001b[39;00m _pywrap_tensorflow\n\u001b[1;32m     37\u001b[0m \u001b[39mfrom\u001b[39;00m \u001b[39mtensorflow\u001b[39;00m\u001b[39m.\u001b[39;00m\u001b[39mpython\u001b[39;00m\u001b[39m.\u001b[39;00m\u001b[39meager\u001b[39;00m \u001b[39mimport\u001b[39;00m context\n\u001b[1;32m     39\u001b[0m \u001b[39m# pylint: enable=wildcard-import\u001b[39;00m\n\u001b[1;32m     40\u001b[0m \n\u001b[1;32m     41\u001b[0m \u001b[39m# Bring in subpackages.\u001b[39;00m\n",
      "File \u001b[0;32m~/anaconda3/lib/python3.11/site-packages/tensorflow/python/pywrap_tensorflow.py:26\u001b[0m\n\u001b[1;32m     21\u001b[0m \u001b[39mfrom\u001b[39;00m \u001b[39mtensorflow\u001b[39;00m\u001b[39m.\u001b[39;00m\u001b[39mpython\u001b[39;00m\u001b[39m.\u001b[39;00m\u001b[39mplatform\u001b[39;00m \u001b[39mimport\u001b[39;00m self_check\n\u001b[1;32m     23\u001b[0m \u001b[39m# TODO(mdan): Cleanup antipattern: import for side effects.\u001b[39;00m\n\u001b[1;32m     24\u001b[0m \n\u001b[1;32m     25\u001b[0m \u001b[39m# Perform pre-load sanity checks in order to produce a more actionable error.\u001b[39;00m\n\u001b[0;32m---> 26\u001b[0m self_check\u001b[39m.\u001b[39mpreload_check()\n\u001b[1;32m     28\u001b[0m \u001b[39m# pylint: disable=wildcard-import,g-import-not-at-top,unused-import,line-too-long\u001b[39;00m\n\u001b[1;32m     30\u001b[0m \u001b[39mtry\u001b[39;00m:\n\u001b[1;32m     31\u001b[0m   \u001b[39m# This import is expected to fail if there is an explicit shared object\u001b[39;00m\n\u001b[1;32m     32\u001b[0m   \u001b[39m# dependency (with_framework_lib=true), since we do not need RTLD_GLOBAL.\u001b[39;00m\n",
      "File \u001b[0;32m~/anaconda3/lib/python3.11/site-packages/tensorflow/python/platform/self_check.py:63\u001b[0m, in \u001b[0;36mpreload_check\u001b[0;34m()\u001b[0m\n\u001b[1;32m     50\u001b[0m       \u001b[39mraise\u001b[39;00m \u001b[39mImportError\u001b[39;00m(\n\u001b[1;32m     51\u001b[0m           \u001b[39m\"\u001b[39m\u001b[39mCould not find the DLL(s) \u001b[39m\u001b[39m%r\u001b[39;00m\u001b[39m. TensorFlow requires that these DLLs \u001b[39m\u001b[39m\"\u001b[39m\n\u001b[1;32m     52\u001b[0m           \u001b[39m\"\u001b[39m\u001b[39mbe installed in a directory that is named in your \u001b[39m\u001b[39m%%\u001b[39;00m\u001b[39mPATH\u001b[39m\u001b[39m%%\u001b[39;00m\u001b[39m \u001b[39m\u001b[39m\"\u001b[39m\n\u001b[0;32m   (...)\u001b[0m\n\u001b[1;32m     56\u001b[0m           \u001b[39m\"\u001b[39m\u001b[39mhttps://support.microsoft.com/help/2977003/the-latest-supported-visual-c-downloads\u001b[39m\u001b[39m\"\u001b[39m\n\u001b[1;32m     57\u001b[0m           \u001b[39m%\u001b[39m \u001b[39m\"\u001b[39m\u001b[39m or \u001b[39m\u001b[39m\"\u001b[39m\u001b[39m.\u001b[39mjoin(missing))\n\u001b[1;32m     58\u001b[0m \u001b[39melse\u001b[39;00m:\n\u001b[1;32m     59\u001b[0m   \u001b[39m# Load a library that performs CPU feature guard checking.  Doing this here\u001b[39;00m\n\u001b[1;32m     60\u001b[0m   \u001b[39m# as a preload check makes it more likely that we detect any CPU feature\u001b[39;00m\n\u001b[1;32m     61\u001b[0m   \u001b[39m# incompatibilities before we trigger them (which would typically result in\u001b[39;00m\n\u001b[1;32m     62\u001b[0m   \u001b[39m# SIGILL).\u001b[39;00m\n\u001b[0;32m---> 63\u001b[0m   \u001b[39mfrom\u001b[39;00m \u001b[39mtensorflow\u001b[39;00m\u001b[39m.\u001b[39;00m\u001b[39mpython\u001b[39;00m\u001b[39m.\u001b[39;00m\u001b[39mplatform\u001b[39;00m \u001b[39mimport\u001b[39;00m _pywrap_cpu_feature_guard\n\u001b[1;32m     64\u001b[0m   _pywrap_cpu_feature_guard\u001b[39m.\u001b[39mInfoAboutUnusedCPUFeatures()\n",
      "\u001b[0;31mKeyboardInterrupt\u001b[0m: "
     ]
    }
   ],
   "source": [
    "import numpy as np\n",
    "from keras.models import Model, Sequential\n",
    "from keras.layers import Input, Flatten, Dense, Dropout, Lambda, Subtract\n",
    "from keras.optimizers import RMSprop\n",
    "from keras import backend as K\n",
    "\n",
    "def euclidean_distance(vects):\n",
    "    x, y = vects\n",
    "    return K.sqrt(K.maximum(K.sum(K.square(x - y), axis=1, keepdims=True), K.epsilon()))\n",
    "\n",
    "def eucl_dist_output_shape(shapes):\n",
    "    shape1, shape2 = shapes\n",
    "    return (shape1[0], 1)\n",
    "\n",
    "def contrastive_loss(y_true, y_pred):\n",
    "    margin = 1\n",
    "    return K.mean(y_true * K.square(y_pred) + (1 - y_true) * K.square(K.maximum(margin - y_pred, 0)))\n",
    "\n",
    "def create_base_network(input_dim):\n",
    "    '''Base network for vector inputs.'''\n",
    "    model = Sequential()\n",
    "    model.add(Dense(128, activation='relu', input_shape=(input_dim,)))\n",
    "    model.add(Dropout(0.1))\n",
    "    model.add(Dense(128, activation='relu'))\n",
    "    model.add(Dropout(0.1))\n",
    "    model.add(Dense(256, activation='relu'))\n",
    "    return model\n",
    "\n",
    "# Assuming your vector has 512 dimensions\n",
    "input_dim = 512\n",
    "base_network = create_base_network(input_dim)\n",
    "\n",
    "input_a = Input(shape=(input_dim,))\n",
    "input_b = Input(shape=(input_dim,))\n",
    "\n",
    "processed_a = base_network(input_a)\n",
    "processed_b = base_network(input_b)\n",
    "\n",
    "distance = Lambda(euclidean_distance, output_shape=eucl_dist_output_shape)([processed_a, processed_b])\n",
    "\n",
    "siamese_model = Model([input_a, input_b], distance)\n",
    "\n",
    "siamese_model.compile(optimizer=RMSprop(), loss=contrastive_loss)\n",
    "\n",
    "# Note: You need pairs of vectors (feature_vector1, feature_vector2) and their labels (1 if similar, 0 if not)\n",
    "# siamese_model.fit([feature_vector1, feature_vector2], labels, epochs=...)\n",
    "\n",
    "def compute_top2_accuracy_for_model(siamese_model, val_left_keys, val_right_values, left_feat_dict, right_feat_dict):\n",
    "    top2_acc_count = 0\n",
    "\n",
    "    for i, left_key in enumerate(val_left_keys):\n",
    "        left_feature = np.array([left_feat_dict.get(left_key)])\n",
    "        if left_feature[0] is None:\n",
    "            continue\n",
    "\n",
    "        # Each entry in val_right_values[i] is a list. We need to iterate over this list.\n",
    "        right_features = [right_feat_dict.get(right_key) for right_key in val_right_values[i] if right_feat_dict.get(right_key) is not None]\n",
    "\n",
    "        \n",
    "        # Evaluate similarities using the siamese network\n",
    "        similarities = [siamese_model.predict([left_feature, np.array([right_feature])])[0][0] for right_feature in right_features]\n",
    "\n",
    "        # Get the indices of the top 2 most similar items\n",
    "        indices = np.argsort(similarities)[:2]\n",
    "\n",
    "        # Check if the correct item (index 0) is among the top 2\n",
    "        if 0 in indices:\n",
    "            top2_acc_count += 1\n",
    "\n",
    "    top2_acc = top2_acc_count / len(val_left_keys)\n",
    "    return top2_acc\n",
    "\n",
    "\n",
    "\n",
    "left_feat_path = \"feat_test/resnet50/resnet50_test_left_features.pkl\"\n",
    "# Assuming there is a similar right feature file for the right features\n",
    "right_feat_path = left_feat_path.replace(\"left\", \"right\")\n",
    "\n",
    "left_feat = load_data_from_pkl(left_feat_path)\n",
    "right_feat = load_data_from_pkl(right_feat_path)\n",
    "\n",
    "\n",
    "# Compute Top-2 accuracy using the siamese network\n",
    "top2_acc_siamese = compute_top2_accuracy_for_model(siamese_model, list(val_left), list(val_right), left_feat, right_feat)\n",
    "print(\"Top-2 Accuracy with Siamese Network:\", top2_acc_siamese)\n",
    "\n"
   ]
  },
  {
   "cell_type": "code",
   "execution_count": null,
   "metadata": {},
   "outputs": [
    {
     "data": {
      "text/plain": [
       "array([0.13752215, 0.01061478, 0.00323061, ..., 1.4417379 , 0.4690695 ,\n",
       "       0.15179093], dtype=float32)"
      ]
     },
     "execution_count": 33,
     "metadata": {},
     "output_type": "execute_result"
    }
   ],
   "source": [
    "left_feat.get('jwn')"
   ]
  },
  {
   "cell_type": "code",
   "execution_count": null,
   "metadata": {},
   "outputs": [
    {
     "data": {
      "text/plain": [
       "dict_values([['imq', 'ftz', 'ena', 'igu', 'mns', 'xek', 'zew', 'xgd', 'dwy', 'qby', 'bgy', 'ynh', 'zif', 'yag', 'buk', 'rlp', 'jvf', 'alu', 'dzq', 'fdj'], ['jbv', 'tmy', 'qjq', 'xof', 'xoe', 'hxo', 'kjl', 'bgy', 'ydc', 'zfz', 'arf', 'yhf', 'tzt', 'goe', 'bkz', 'nqn', 'tex', 'zdo', 'qic', 'vft'], ['jex', 'mfx', 'mnh', 'fbm', 'apr', 'hwi', 'ltv', 'qjh', 'zuo', 'wrj', 'nmq', 'afz', 'udd', 'qev', 'suj', 'iqo', 'yag', 'ntz', 'kjy', 'vrf'], ['gph', 'keo', 'oyk', 'hds', 'zjq', 'iqs', 'brp', 'guz', 'ryz', 'iwg', 'uwk', 'cxf', 'kna', 'gab', 'ahi', 'mhz', 'vlw', 'qwi', 'bfo', 'lrb'], ['ynk', 'avg', 'ack', 'yyn', 'ofq', 'eup', 'abu', 'ibw', 'qfx', 'ykj', 'lga', 'oxn', 'bnq', 'guz', 'vrr', 'nls', 'lvf', 'zal', 'uuf', 'nxy'], ['qkz', 'jhz', 'bvp', 'gfk', 'cmn', 'ded', 'rpm', 'dvn', 'pbj', 'vht', 'iki', 'bid', 'mff', 'yli', 'cjk', 'afx', 'wop', 'pvs', 'iau', 'zju'], ['ggb', 'vzy', 'bkz', 'fcj', 'tdy', 'bjy', 'ryz', 'sxa', 'awy', 'pdh', 'dyc', 'zyz', 'mhj', 'xol', 'mlz', 'wgn', 'zbu', 'wmg', 'iii', 'dfg'], ['xsr', 'ctm', 'uot', 'lwa', 'vst', 'bbq', 'qde', 'qva', 'vyp', 'qao', 'lmt', 'ddm', 'jij', 'iam', 'xek', 'xnj', 'uwk', 'nah', 'jcs', 'xyw'], ['nls', 'ddw', 'vpy', 'jic', 'avm', 'net', 'kgd', 'akq', 'lfv', 'idm', 'dru', 'upi', 'ctm', 'cic', 'rxl', 'vnw', 'tdy', 'zqr', 'akf', 'syj'], ['vht', 'xhi', 'zkn', 'jwz', 'vhy', 'trh', 'gmf', 'lag', 'boc', 'afx', 'had', 'apv', 'pvd', 'uvh', 'gle', 'wkm', 'cdq', 'jeb', 'ean', 'zra'], ['zts', 'sii', 'rty', 'hum', 'ggh', 'rcr', 'vik', 'ntn', 'ien', 'bex', 'jij', 'epw', 'odb', 'cca', 'mjs', 'ndt', 'orh', 'huz', 'rhc', 'dtf'], ['ylh', 'atg', 'dnj', 'wcj', 'hpp', 'duy', 'otk', 'cch', 'fev', 'alu', 'yfm', 'ccp', 'maq', 'zdk', 'mhj', 'zfz', 'brp', 'gya', 'yfk', 'haw'], ['hoz', 'kfn', 'xes', 'tkn', 'wym', 'nrq', 'zyd', 'rtw', 'wyv', 'chj', 'uwk', 'dpg', 'fth', 'jmx', 'bff', 'uqv', 'wen', 'jbc', 'fio', 'vhy'], ['wpa', 'pbz', 'ysb', 'bii', 'zwb', 'hot', 'ani', 'pya', 'dma', 'wmz', 'dyp', 'pjc', 'sqi', 'otv', 'xbh', 'taa', 'yvy', 'zzz', 'mfx', 'lvb'], ['ujr', 'ojd', 'fgk', 'kxv', 'rdp', 'fpd', 'xut', 'qdm', 'fxu', 'msa', 'ded', 'ytm', 'jsp', 'nhy', 'jeb', 'guw', 'gfw', 'pjb', 'ctm', 'dxa'], ['qrg', 'ena', 'uib', 'gne', 'gqn', 'odi', 'hgk', 'kjy', 'ryx', 'zww', 'ubd', 'ols', 'vtv', 'mjs', 'srw', 'zry', 'xxl', 'zif', 'qmv', 'yvs'], ['eso', 'jlo', 'jhq', 'vrw', 'swe', 'xyc', 'fah', 'hve', 'nhd', 'pmb', 'lhg', 'uwk', 'pjb', 'ubo', 'dql', 'kww', 'qjh', 'eak', 'pya', 'yvq'], ['kaa', 'mwy', 'uvl', 'ydk', 'xqn', 'yqc', 'tpi', 'hpb', 'qvg', 'sbv', 'lal', 'dma', 'qna', 'gkh', 'aod', 'lly', 'rsc', 'mgj', 'jrj', 'xir'], ['psw', 'vrz', 'knd', 'yug', 'bwq', 'qqr', 'hom', 'pyh', 'kfd', 'fvc', 'xri', 'yfa', 'ycg', 'dqb', 'vft', 'msa', 'fes', 'wuy', 'jhu', 'rst'], ['dyp', 'gfy', 'jeb', 'ghj', 'adv', 'udd', 'vql', 'hrp', 'jrj', 'yqs', 'tvu', 'hqn', 'wqf', 'edp', 'hit', 'dgg', 'suj', 'vok', 'zbt', 'ylh'], ['rkb', 'xmr', 'mez', 'pbz', 'zkc', 'mne', 'mam', 'zgq', 'zsm', 'ack', 'vyh', 'cvs', 'pcj', 'cws', 'oma', 'xjj', 'ign', 'jic', 'ymk', 'yrv'], ['qjh', 'wtb', 'mqd', 'qmo', 'dxp', 'tgn', 'rab', 'rzf', 'bcl', 'dsf', 'fkf', 'glf', 'gge', 'pvs', 'hzy', 'cqw', 'xze', 'wgs', 'hpm', 'rrs'], ['vsw', 'xhz', 'dgl', 'xsa', 'xoj', 'cmf', 'hdz', 'kgv', 'cqk', 'lnc', 'jkm', 'fxf', 'iiu', 'tqw', 'tvu', 'brp', 'sug', 'cqq', 'aqb', 'eki'], ['atw', 'uvh', 'uqv', 'kgd', 'cmn', 'lns', 'ouj', 'ocx', 'rkb', 'whw', 'ydc', 'zna', 'mff', 'dpg', 'yns', 'gph', 'hyh', 'gjc', 'amc', 'ore'], ['wks', 'dsi', 'ycq', 'lwe', 'bff', 'oqp', 'kya', 'liu', 'nax', 'urj', 'aet', 'tmy', 'ojd', 'jli', 'kkt', 'dps', 'kzb', 'wpc', 'uxl', 'uzd'], ['ejk', 'hsx', 'gle', 'xhz', 'lnn', 'bnz', 'jel', 'onu', 'sbi', 'wdv', 'qsu', 'fye', 'ovy', 'wpf', 'iyi', 'quy', 'gjk', 'hju', 'uku', 'apv'], ['oju', 'qwk', 'mie', 'pka', 'lqv', 'qof', 'tqw', 'jnl', 'ixr', 'wiv', 'sqs', 'kgm', 'enj', 'hzu', 'pyh', 'xsm', 'ard', 'abz', 'qax', 'wdr'], ['otv', 'tgv', 'fkf', 'mkh', 'pjg', 'agu', 'qax', 'mxd', 'rzf', 'bvn', 'vnw', 'chj', 'wpd', 'xyq', 'pyh', 'ewo', 'bex', 'gqn', 'rnt', 'gjo'], ['jub', 'pvs', 'pqd', 'mrq', 'zqd', 'ysj', 'pnn', 'kbr', 'erp', 'qpc', 'tsb', 'dyc', 'yvq', 'lva', 'yvh', 'wmy', 'cbi', 'ehy', 'nsw', 'mfx'], ['itf', 'enx', 'xmr', 'kpp', 'hrn', 'htp', 'ken', 'ehy', 'ong', 'cld', 'xtz', 'osw', 'zkc', 'ese', 'fxv', 'flv', 'efl', 'ngd', 'wja', 'mut'], ['cyq', 'ofd', 'xzz', 'sds', 'hvt', 'zdk', 'wso', 'ize', 'lma', 'pvd', 'vas', 'rjc', 'cws', 'wmg', 'xja', 'yrv', 'aun', 'pns', 'ofq', 'yms'], ['lzg', 'rhj', 'pnx', 'sbi', 'wyt', 'hqx', 'cyo', 'hbj', 'zxk', 'bbd', 'wjg', 'ccp', 'ose', 'lch', 'dzj', 'vdl', 'qpc', 'cdn', 'fim', 'lxv'], ['btu', 'ais', 'bgd', 'lhg', 'opx', 'bto', 'nrs', 'vre', 'otv', 'bqm', 'yrh', 'trl', 'thl', 'rwj', 'wja', 'xhe', 'wyv', 'jdy', 'jsa', 'rzo'], ['qql', 'qfj', 'tip', 'ccp', 'nas', 'erp', 'shl', 'ewv', 'nah', 'wvq', 'bak', 'fcj', 'wpm', 'qug', 'hkp', 'wff', 'yeo', 'aqq', 'rhk', 'atw'], ['awo', 'ski', 'wfx', 'uot', 'toh', 'igr', 'tcn', 'zvf', 'kyu', 'fxv', 'pfh', 'gne', 'qpp', 'vpv', 'mbo', 'wed', 'lga', 'nll', 'dpg', 'ebg'], ['vdi', 'ysb', 'zfc', 'epe', 'pop', 'trl', 'vos', 'ejz', 'zgq', 'tqy', 'gfy', 'dvd', 'edh', 'wev', 'saq', 'qmo', 'yrb', 'tap', 'txq', 'hkx'], ['emr', 'flz', 'bqh', 'knd', 'jra', 'ifd', 'svr', 'tph', 'src', 'jwz', 'lbt', 'odp', 'lve', 'enx', 'qry', 'dyc', 'rsv', 'ufq', 'ani', 'ith'], ['sir', 'okm', 'pcb', 'gqz', 'zck', 'vpx', 'cdx', 'iql', 'net', 'cvi', 'hgu', 'hzn', 'rcl', 'mwc', 'alg', 'tdp', 'nut', 'ygn', 'vwk', 'ack'], ['saa', 'shs', 'fbk', 'ivf', 'dtg', 'zgk', 'ojd', 'wyt', 'dql', 'ypo', 'fth', 'jlo', 'xmr', 'rcl', 'zqs', 'bff', 'rfj', 'vor', 'gfk', 'ifg'], ['lpt', 'mwc', 'pyz', 'qnn', 'alu', 'dcn', 'jsp', 'hll', 'gar', 'jaa', 'dgn', 'iea', 'zsm', 'agv', 'rer', 'vor', 'erg', 'xdt', 'vuv', 'zxi'], ['dvv', 'dlu', 'ubp', 'myu', 'dgf', 'pvs', 'hav', 'paq', 'vll', 'kjy', 'syj', 'pzx', 'mfh', 'xsm', 'unj', 'jdy', 'vyp', 'cca', 'kgt', 'mon'], ['lfv', 'hvp', 'apv', 'ibw', 'pfh', 'hhf', 'bfq', 'egp', 'sim', 'sbi', 'ghj', 'ezu', 'ltv', 'qfj', 'jcm', 'iii', 'boy', 'mne', 'ugo', 'mye'], ['nyk', 'xoj', 'ixk', 'eru', 'jlo', 'ixj', 'biv', 'iwg', 'hjv', 'eye', 'url', 'tvu', 'mzt', 'quy', 'bap', 'cvj', 'gnr', 'dsf', 'rlp', 'apr'], ['uce', 'lhg', 'mie', 'ixh', 'zyz', 'jxz', 'rpg', 'iyi', 'hyy', 'fcs', 'jbv', 'pbj', 'alu', 'ivf', 'ghc', 'oal', 'fuy', 'daj', 'kai', 'bap'], ['gzn', 'uep', 'xxl', 'vht', 'lnq', 'trl', 'swl', 'rwt', 'bzd', 'wox', 'bbz', 'guw', 'jqu', 'eee', 'tep', 'pjb', 'vub', 'wpm', 'yaw', 'zna'], ['fzl', 'ksl', 'czs', 'nds', 'wym', 'sos', 'bjy', 'yke', 'jsa', 'hww', 'wev', 'ziq', 'orh', 'qrt', 'fes', 'fxv', 'rnt', 'egb', 'pxl', 'hwy'], ['wvn', 'gqs', 'ypk', 'rem', 'khk', 'paq', 'duy', 'vqy', 'otv', 'fcs', 'pcr', 'rwt', 'ddj', 'eqi', 'aal', 'jga', 'xof', 'mwv', 'nhd', 'bua'], ['gyc', 'tyo', 'vhv', 'gpy', 'uwg', 'pic', 'zts', 'itl', 'dek', 'wlk', 'ydk', 'xze', 'kgv', 'edv', 'tda', 'tad', 'ono', 'hsw', 'tes', 'krd'], ['wox', 'uzy', 'jhf', 'xri', 'vdi', 'mqn', 'rlp', 'hak', 'xze', 'upm', 'ynh', 'ngs', 'ucp', 'wen', 'xoc', 'sds', 'lva', 'rbo', 'nmx', 'nvw'], ['yvs', 'wiv', 'hgu', 'ziw', 'tny', 'egb', 'cyq', 'gao', 'rlf', 'cak', 'ruo', 'mpz', 'yns', 'pmb', 'soi', 'yas', 'rzk', 'dnm', 'gkl', 'ean'], ['fev', 'hds', 'uqp', 'jae', 'fcp', 'irc', 'xut', 'ncw', 'ovy', 'xol', 'hpc', 'lgj', 'gwl', 'afo', 'dez', 'odp', 'pjp', 'ste', 'gvu', 'vyh'], ['bnt', 'gnr', 'jkm', 'svr', 'zqd', 'jck', 'wlb', 'wev', 'cmf', 'rca', 'efz', 'zvq', 'xmo', 'wyv', 'ghd', 'hpo', 'cnx', 'cxf', 'bru', 'drd'], ['uwk', 'uvh', 'dyw', 'vef', 'jgn', 'joi', 'bvn', 'fei', 'ziq', 'dlu', 'hzi', 'eqd', 'cqk', 'hpe', 'dpt', 'jww', 'tdp', 'zyd', 'sos', 'prd'], ['biv', 'ejj', 'aze', 'rvl', 'uuh', 'ygv', 'oou', 'ezv', 'jqu', 'agu', 'vhe', 'fmo', 'xoz', 'hac', 'mam', 'sxr', 'vea', 'utw', 'jra', 'hoq'], ['paj', 'ref', 'sgb', 'wce', 'rab', 'khp', 'tnk', 'dsi', 'hum', 'yzg', 'abz', 'lps', 'enj', 'lwa', 'kzb', 'vdf', 'iqo', 'drs', 'hag', 'wox'], ['hqw', 'szb', 'sxr', 'yvq', 'sos', 'hum', 'zqa', 'hwx', 'eyf', 'yll', 'juy', 'nqn', 'bcu', 'skb', 'vos', 'yid', 'piw', 'igu', 'kgt', 'zdi'], ['lmv', 'vyn', 'tyd', 'axv', 'sve', 'dyh', 'gqs', 'fwb', 'itf', 'tap', 'hfe', 'ztc', 'ccp', 'ufk', 'plo', 'zjl', 'rxl', 'acb', 'psw', 'yaw'], ['ubd', 'ewl', 'udd', 'kxj', 'zis', 'hzu', 'rus', 'zxh', 'dvd', 'xhz', 'jwa', 'ere', 'aal', 'ipb', 'ohu', 'lyk', 'mye', 'kmv', 'syk', 'wkf'], ['zdi', 'pkx', 'qxg', 'izs', 'uyu', 'alv', 'vsn', 'qrt', 'xuk', 'mff', 'dzj', 'tbm', 'ofq', 'wjw', 'zhk', 'xnk', 'gyc', 'rwj', 'rzf', 'urw'], ['olq', 'zkk', 'pqv', 'ftz', 'uyr', 'rbo', 'fio', 'qkf', 'ded', 'xmo', 'vea', 'lal', 'rcr', 'zzf', 'qia', 'vok', 'lij', 'urw', 'tph', 'ajg'], ['rlx', 'cvj', 'sbv', 'prd', 'bfa', 'ogz', 'aoe', 'fvc', 'bxl', 'esg', 'uqe', 'enx', 'vsh', 'lej', 'wej', 'mie', 'zqd', 'jqu', 'nds', 'ekx'], ['fmz', 'ysc', 'ytu', 'ksq', 'zdk', 'zjl', 'yqs', 'vnt', 'gjm', 'lmv', 'igo', 'ylh', 'irf', 'cun', 'mly', 'ded', 'evr', 'akq', 'yot', 'kfd'], ['yau', 'ysb', 'gzf', 'fkq', 'kth', 'mex', 'mff', 'ntn', 'pad', 'jqs', 'ski', 'jhz', 'pxl', 'odi', 'whg', 'ynh', 'shd', 'bik', 'jvu', 'ozi'], ['pop', 'wpm', 'sru', 'yau', 'ryz', 'mkh', 'isb', 'duy', 'hxv', 'ypm', 'pps', 'lyb', 'ggk', 'esm', 'cok', 'brv', 'zdw', 'jbv', 'ptl', 'ydc'], ['itl', 'aev', 'tpv', 'wyv', 'soi', 'nvh', 'joi', 'jli', 'dzc', 'bcs', 'xbh', 'kla', 'crw', 'gzn', 'otk', 'yqv', 'xwk', 'aep', 'zls', 'mez'], ['ikb', 'aer', 'aet', 'pzz', 'kyn', 'bkd', 'xuk', 'ziw', 'rus', 'prd', 'xsm', 'ttv', 'nwn', 'txe', 'whg', 'ojk', 'red', 'ard', 'dzj', 'yzg'], ['qym', 'hzn', 'vll', 'qui', 'jli', 'jbc', 'vrw', 'jcs', 'qow', 'xsm', 'zju', 'fhp', 'ceg', 'vef', 'fcx', 'duh', 'jce', 'bru', 'tmy', 'ttr'], ['mhq', 'gjg', 'nrl', 'pzx', 'bcu', 'nmp', 'cwn', 'dwx', 'baq', 'gnf', 'mkx', 'wce', 'wuy', 'ohi', 'hoz', 'ano', 'vhv', 'cyw', 'fcp', 'rty'], ['hkp', 'ybv', 'nlv', 'rjs', 'veu', 'wpd', 'rlf', 'zkq', 'lbd', 'rwn', 'jgo', 'zvf', 'saq', 'mbb', 'tsb', 'wdr', 'zwb', 'lmt', 'ose', 'kvz'], ['iur', 'ygm', 'tta', 'ien', 'ecr', 'amc', 'uhg', 'hgk', 'ujr', 'zal', 'yvq', 'xdr', 'gjt', 'dpz', 'jtc', 'mkh', 'zxk', 'zkq', 'crw', 'irj'], ['dlo', 'nsk', 'xvb', 'xno', 'keo', 'qfj', 'yms', 'ysj', 'fcs', 'sry', 'baq', 'ixa', 'pfp', 'gph', 'oxn', 'jcx', 'lqh', 'svn', 'ims', 'cyw'], ['fhu', 'bot', 'bjy', 'mxr', 'dvn', 'uuf', 'uue', 'gjn', 'ojk', 'kmt', 'aoe', 'lwd', 'jbv', 'ojm', 'hll', 'wmg', 'cbi', 'iuh', 'auw', 'rzu'], ['tgr', 'upm', 'bot', 'zxk', 'ceg', 'yzg', 'rem', 'ymf', 'yeo', 'ujr', 'sqy', 'hgz', 'pvs', 'myu', 'wqf', 'vcr', 'upx', 'dtg', 'gmr', 'ocy'], ['jlo', 'xvz', 'yqs', 'zzf', 'mqh', 'ocx', 'ebg', 'qjq', 'xhc', 'yqb', 'dde', 'oii', 'dzc', 'ulm', 'xsl', 'seb', 'sim', 'xhz', 'snc', 'uot'], ['ujz', 'fcj', 'rwn', 'jhq', 'olw', 'qqr', 'qqy', 'ddj', 'kya', 'yqs', 'wiv', 'hyg', 'lmv', 'qkz', 'apr', 'vfp', 'zvq', 'mbb', 'ykj', 'rvl'], ['jee', 'hds', 'taa', 'afo', 'qys', 'dez', 'tes', 'ttr', 'ltv', 'wkf', 'kgv', 'gcs', 'vos', 'hvs', 'rxt', 'zhk', 'upf', 'vre', 'bru', 'ste'], ['cun', 'wqi', 'ded', 'xnq', 'cya', 'xsa', 'dvv', 'ais', 'vvf', 'upi', 'gcl', 'gar', 'qak', 'myu', 'sru', 'ort', 'dvu', 'ord', 'avc', 'wgf'], ['aok', 'nvw', 'fev', 'imp', 'hpq', 'zdx', 'jgw', 'dtf', 'ted', 'oyk', 'upi', 'wed', 'eru', 'zvf', 'aun', 'lve', 'vpv', 'wus', 'fmz', 'cch'], ['but', 'ucy', 'xoc', 'btm', 'fad', 'mpz', 'sxa', 'xdr', 'pyh', 'ntz', 'suj', 'wkf', 'wgs', 'mnj', 'zcc', 'gab', 'svr', 'uvh', 'cdx', 'ysc'], ['tta', 'rwf', 'rfx', 'slt', 'rnz', 'plo', 'agc', 'kna', 'zvq', 'wqf', 'wpd', 'hwg', 'vdz', 'wvw', 'zgg', 'chu', 'aoe', 'xtz', 'nhy', 'bdl'], ['vub', 'zxh', 'kpp', 'oxn', 'jcx', 'gpy', 'atg', 'ysi', 'hww', 'mmw', 'gjo', 'egp', 'lch', 'mif', 'pyh', 'ltv', 'wiq', 'ubp', 'hzy', 'ifg'], ['zal', 'luh', 'jmx', 'btu', 'hot', 'fxv', 'rnt', 'ixa', 'pyh', 'ewl', 'wgf', 'tad', 'din', 'ttr', 'rnz', 'zob', 'ukh', 'byt', 'wba', 'zjq'], ['pns', 'mwy', 'cni', 'xyc', 'ovy', 'udc', 'vik', 'pwv', 'kfd', 'eee', 'rcr', 'pok', 'nrp', 'gry', 'zdw', 'twd', 'rkm', 'ehy', 'lly', 'wcj'], ['uqp', 'qln', 'wvq', 'rgf', 'aof', 'wtb', 'fgk', 'jyg', 'avl', 'daw', 'brp', 'uwt', 'qjh', 'hzu', 'txe', 'hgb', 'bch', 'iyu', 'tup', 'rkm'], ['zfl', 'ref', 'buk', 'zcc', 'ohu', 'jbc', 'ufk', 'fgk', 'vpv', 'rwn', 'myu', 'fpl', 'dql', 'xkt', 'lva', 'duh', 'hva', 'xlb', 'whw', 'jky'], ['hwy', 'rmp', 'yhf', 'saq', 'anl', 'rlf', 'csj', 'vns', 'fhp', 'fev', 'iby', 'ghc', 'ulm', 'wcj', 'dso', 'ixi', 'vll', 'ogx', 'xsr', 'hds'], ['ubo', 'hgz', 'soi', 'hzy', 'fev', 'ttg', 'cic', 'hoz', 'nsk', 'xuy', 'atw', 'cqq', 'dnm', 'syj', 'sxr', 'box', 'uud', 'izs', 'fjp', 'zfs'], ['boy', 'sqs', 'krd', 'vdi', 'nrs', 'iyj', 'qum', 'mgp', 'apf', 'lqh', 'uit', 'cif', 'trh', 'guz', 'uep', 'fuy', 'hvs', 'flv', 'bon', 'frl'], ['kjl', 'hwg', 'ycg', 'wej', 'atg', 'ijp', 'hsw', 'tdy', 'bbq', 'eki', 'eye', 'swe', 'sej', 'rkm', 'wiv', 'xsa', 'okm', 'hpq', 'lwa', 'nmx'], ['shs', 'urg', 'mlp', 'xit', 'tap', 'fov', 'gjt', 'iqo', 'tyl', 'hqn', 'esq', 'lvb', 'txs', 'igd', 'pnm', 'dge', 'ose', 'ibi', 'xbh', 'wih'], ['lby', 'enx', 'tkq', 'mut', 'fkf', 'vre', 'dwx', 'vht', 'esg', 'apr', 'bbz', 'hqn', 'jrv', 'zkc', 'aok', 'jfl', 'leh', 'ign', 'yuz', 'mtv'], ['jgw', 'eyt', 'xyc', 'irf', 'mti', 'box', 'dek', 'itl', 'pfp', 'nah', 'rer', 'wvq', 'oqp', 'sos', 'gvn', 'oxc', 'xoc', 'kca', 'vlw', 'hwi'], ['xof', 'tex', 'xmr', 'lhg', 'qpd', 'ddm', 'wnr', 'zlf', 'yli', 'nok', 'pae', 'wpd', 'emj', 'jel', 'yaw', 'ela', 'atl', 'hef', 'snc', 'sbv'], ['djf', 'cqk', 'cdx', 'wyt', 'pzc', 'xjj', 'jsh', 'xxl', 'apr', 'dvn', 'osw', 'xnk', 'uit', 'qkf', 'bgy', 'nvh', 'tkn', 'lve', 'mjs', 'tgv'], ['nze', 'tpv', 'zif', 'wya', 'tgr', 'gvu', 'djw', 'vwq', 'gdk', 'pad', 'nfu', 'itl', 'tob', 'rcj', 'avg', 'mgj', 'vdz', 'ddu', 'zra', 'lwa'], ['odn', 'wce', 'zay', 'ibj', 'awo', 'ixr', 'ini', 'zjv', 'zxo', 'jae', 'hww', 'npi', 'dch', 'ogz', 'gme', 'pzx', 'bdl', 'urw', 'zob', 'pwb'], ['lqc', 'fei', 'upm', 'hen', 'lpz', 'trh', 'kio', 'zco', 'tof', 'zlm', 'bid', 'jga', 'jgw', 'gwi', 'ofg', 'oiq', 'iur', 'flv', 'fkq', 'wfx'], ['hgb', 'wik', 'osw', 'rkb', 'zck', 'cln', 'piw', 'fdj', 'duy', 'pjg', 'rwn', 'fcs', 'wvw', 'zuo', 'dsi', 'paj', 'uqe', 'wop', 'eix', 'msx'], ['unj', 'urj', 'zfs', 'mrq', 'hac', 'iab', 'qdb', 'ajg', 'pqv', 'upm', 'jtc', 'ttg', 'pbz', 'fvi', 'pqd', 'jsp', 'xdr', 'nqn', 'xso', 'gnf'], ['gmf', 'ack', 'khk', 'bse', 'yzg', 'dyp', 'dez', 'cmn', 'ioy', 'ckl', 'mkh', 'nds', 'tgr', 'xhz', 'cln', 'eee', 'twd', 'esm', 'urs', 'vdi'], ['bqj', 'tqw', 'hwi', 'xol', 'yrb', 'yms', 'rmp', 'wih', 'nxy', 'seg', 'hrn', 'yyn', 'zcc', 'bjy', 'mkx', 'rfb', 'dsy', 'edv', 'ijd', 'xkt'], ['bon', 'zry', 'ggk', 'mkh', 'wzm', 'mwy', 'mom', 'iwg', 'goe', 'qum', 'lwe', 'bex', 'jvf', 'vjf', 'igo', 'wvw', 'dnm', 'ylq', 'tyv', 'wej'], ['jkm', 'akj', 'jee', 'oaa', 'udd', 'qym', 'ycg', 'hgu', 'yqv', 'dzk', 'hot', 'piy', 'erg', 'qql', 'aim', 'hsx', 'ddu', 'ubz', 'bxm', 'iml'], ['xze', 'npi', 'tof', 'qtp', 'dea', 'lnq', 'cnf', 'zgg', 'agu', 'mhl', 'pnm', 'tcw', 'ted', 'pmb', 'zkk', 'tgs', 'esq', 'lex', 'qql', 'uue'], ['aan', 'far', 'dql', 'emh', 'mar', 'uuh', 'nkd', 'anr', 'itl', 'dsf', 'cqw', 'joi', 'yug', 'eqi', 'npt', 'qpp', 'tpi', 'vul', 'ylh', 'bol'], ['jga', 'efz', 'cyq', 'uyu', 'ucq', 'pvd', 'mtw', 'eqp', 'hac', 'keb', 'bse', 'vwq', 'coi', 'nne', 'crp', 'dek', 'pvs', 'xfh', 'zsh', 'ntn'], ['tex', 'gao', 'cnx', 'qdm', 'uen', 'dsu', 'ohu', 'ksq', 'irc', 'sve', 'dip', 'sdm', 'dqb', 'zbu', 'srw', 'hvs', 'dyc', 'zco', 'shl', 'hfe'], ['vik', 'qwi', 'vob', 'pzz', 'hag', 'zee', 'uep', 'lfg', 'oqv', 'mhl', 'trl', 'onz', 'oma', 'qwt', 'zyf', 'tbd', 'pyh', 'yya', 'lpt', 'tis'], ['ebg', 'vhy', 'lqc', 'qra', 'dnm', 'ckl', 'qxu', 'rfx', 'cpr', 'qzk', 'zmb', 'hzi', 'jww', 'gao', 'vlp', 'net', 'ynk', 'gkh', 'ong', 'lzc'], ['dde', 'qpr', 'qfu', 'cni', 'wqi', 'dvd', 'wja', 'mga', 'lfg', 'ubo', 'mgj', 'nxi', 'ttv', 'vtv', 'jec', 'xxu', 'mqn', 'fah', 'ziw', 'zjv'], ['mzt', 'gds', 'bcu', 'qra', 'msm', 'xhc', 'gvz', 'xwg', 'yhf', 'prd', 'nfu', 'lmv', 'vos', 'net', 'ozp', 'qvz', 'neb', 'nok', 'ymh', 'oyw'], ['boc', 'uit', 'ixi', 'rsc', 'qjt', 'ikg', 'jec', 'tda', 'uvl', 'gmr', 'pkx', 'zzz', 'vik', 'lwe', 'ubo', 'lhg', 'hae', 'zal', 'sqi', 'xag'], ['eql', 'esg', 'oqp', 'lxv', 'rdu', 'kkt', 'ted', 'lzc', 'gge', 'faq', 'qln', 'ecr', 'nnc', 'rnz', 'kyn', 'haw', 'vso', 'mvo', 'ylh', 'psw'], ['dip', 'ruo', 'pcj', 'hds', 'vwq', 'ygv', 'bee', 'sdw', 'gqz', 'goe', 'yfm', 'lxv', 'ith', 'zkq', 'sbr', 'zna', 'yfk', 'wlk', 'gnf', 'rcr'], ['vyn', 'zgq', 'nqp', 'soi', 'trl', 'vrr', 'erg', 'ewl', 'wpa', 'fyp', 'ffr', 'uwf', 'stv', 'ofq', 'flv', 'mmw', 'cnz', 'kla', 'ceg', 'auw'], ['tgd', 'hvp', 'kej', 'lzg', 'vwq', 'qzk', 'xyq', 'crw', 'ggd', 'htp', 'zob', 'cun', 'uon', 'ofi', 'sbr', 'sxr', 'aim', 'tof', 'zne', 'fyp'], ['edp', 'hae', 'bbq', 'yli', 'bjy', 'wus', 'pnx', 'lyk', 'dam', 'evl', 'gao', 'pqd', 'aqy', 'esm', 'idm', 'vuv', 'ibj', 'eso', 'wqf', 'qoa'], ['sve', 'dlo', 'vsw', 'saq', 'see', 'ddu', 'wzi', 'zgk', 'nod', 'awy', 'hpe', 'hgu', 'jdy', 'hpc', 'lns', 'znl', 'ekx', 'ttg', 'ucy', 'crp'], ['iuh', 'zqe', 'ynh', 'igo', 'vxx', 'zkk', 'iam', 'mga', 'vfp', 'cni', 'joi', 'juy', 'zkq', 'wce', 'eso', 'xvb', 'xyz', 'ixu', 'ggh', 'sgn'], ['vvf', 'rvl', 'rfo', 'evj', 'tyl', 'gsn', 'gnr', 'itl', 'xua', 'eat', 'syk', 'wba', 'llz', 'jif', 'ofq', 'ims', 'vso', 'may', 'xxl', 'vnw'], ['ibj', 'hzn', 'qfj', 'qfu', 'mnj', 'axv', 'ini', 'aqq', 'tcw', 'ydi', 'udc', 'emh', 'eru', 'wvw', 'jra', 'hpe', 'bzq', 'axz', 'oma', 'ygm'], ['krd', 'ujm', 'ncd', 'eyf', 'zfz', 'rzk', 'upx', 'pwt', 'ani', 'gjv', 'ggh', 'nhn', 'tbf', 'rfo', 'qow', 'yxe', 'hww', 'qam', 'vgw', 'lyk'], ['yqm', 'biz', 'hgu', 'mhf', 'jsa', 'pjk', 'ycq', 'upm', 'ccp', 'vub', 'zls', 'bpt', 'hqn', 'eqp', 'lve', 'sau', 'znw', 'wkp', 'srw', 'ixi'], ['wso', 'uqp', 'kgd', 'mie', 'zws', 'xir', 'ocn', 'ruo', 'rzk', 'air', 'lyu', 'ign', 'seg', 'veu', 'xqn', 'zfl', 'qdm', 'kej', 'nxy', 'cfq'], ['vux', 'dnj', 'uce', 'uel', 'jee', 'tep', 'hxo', 'vgn', 'knd', 'zux', 'ppj', 'toj', 'ipb', 'dpt', 'pyz', 'brm', 'yug', 'trl', 'uwf', 'dxa'], ['pfr', 'yug', 'ujp', 'uvn', 'hbd', 'xnq', 'thl', 'bzd', 'rfs', 'dvu', 'sdw', 'vdi', 'ihr', 'kyh', 'kef', 'wkf', 'mgk', 'nyk', 'tse', 'dgf'], ['nqp', 'sop', 'icv', 'abv', 'bip', 'bfq', 'hiy', 'ddm', 'sfv', 'ozs', 'ubd', 'vsn', 'arf', 'lgj', 'wiv', 'fye', 'hyy', 'trl', 'amc', 'ebg'], ['edh', 'wjp', 'bip', 'soi', 'uot', 'wed', 'tuv', 'hkp', 'xuk', 'hkd', 'gph', 'tup', 'hfe', 'vsd', 'egb', 'vul', 'rlf', 'fmz', 'ttv', 'hgz'], ['tyl', 'gwi', 'zvk', 'rxt', 'qia', 'wbe', 'hae', 'vfm', 'ovy', 'ymk', 'aqq', 'rpg', 'opx', 'bxl', 'yas', 'brm', 'sqi', 'vdf', 'mfx', 'ocp'], ['alg', 'pxl', 'vre', 'hpm', 'hjv', 'irn', 'jvn', 'gxc', 'soe', 'fcs', 'qva', 'syg', 'kio', 'dma', 'bon', 'mrs', 'xdd', 'nsk', 'lyf', 'bjy'], ['shl', 'ucy', 'ukh', 'dor', 'yxe', 'bcu', 'gds', 'brp', 'rmw', 'wwg', 'pad', 'nqs', 'ken', 'qey', 'tnl', 'bsb', 'rty', 'gpy', 'lbw', 'six'], ['mtv', 'qpd', 'vos', 'vrz', 'yll', 'xmd', 'tfq', 'jor', 'sgs', 'bud', 'wta', 'big', 'gnj', 'dyp', 'gjo', 'gcs', 'hpb', 'dbz', 'frl', 'xnj'], ['gqn', 'kyd', 'bsy', 'oii', 'dpz', 'wua', 'rps', 'wta', 'vpv', 'mtw', 'rwj', 'rtx', 'uus', 'txs', 'rfo', 'qey', 'twd', 'oom', 'sye', 'fhu'], ['ppj', 'oju', 'dma', 'zfs', 'fhp', 'bua', 'bip', 'vnt', 'cjk', 'vql', 'mzx', 'bcs', 'fwb', 'tmh', 'szx', 'wyv', 'zqw', 'pvd', 'hhl', 'cqw'], ['pby', 'ukh', 'xyz', 'gmr', 'bon', 'dpz', 'zfc', 'gmf', 'yrb', 'nqp', 'nrl', 'gxs', 'rmw', 'cla', 'ejz', 'txq', 'rpg', 'ihg', 'vei', 'nod'], ['dam', 'yhl', 'gsi', 'edp', 'xja', 'qfd', 'ngs', 'evj', 'bee', 'cqq', 'cxw', 'kxj', 'jga', 'dub', 'esg', 'jfl', 'wmy', 'nrl', 'nmq', 'iqg'], ['irj', 'svn', 'hgb', 'ocp', 'xws', 'ohi', 'dcs', 'yxf', 'sur', 'obl', 'dql', 'ghc', 'ucq', 'tad', 'uwk', 'eyt', 'hdz', 'kyn', 'ggj', 'mwv'], ['syj', 'rca', 'eye', 'hju', 'xws', 'xdt', 'dyi', 'gcs', 'mye', 'ojk', 'aqb', 'fad', 'pbj', 'zay', 'ini', 'zew', 'ryd', 'iur', 'ynh', 'lij'], ['vlb', 'nmq', 'jbc', 'xoj', 'din', 'bap', 'igd', 'som', 'iyi', 'zqe', 'aqy', 'ozp', 'nzk', 'wce', 'qrd', 'uzi', 'xyp', 'jnb', 'llz', 'hpo'], ['daw', 'eyf', 'awo', 'afx', 'hgk', 'qkf', 'hen', 'kth', 'vfm', 'zei', 'cdq', 'nmq', 'aea', 'jnb', 'cmf', 'rlu', 'bua', 'ong', 'vrj', 'rbo'], ['wed', 'cok', 'ojk', 'ibh', 'itc', 'tvu', 'pop', 'pfp', 'kpp', 'vmi', 'gyg', 'uuh', 'xfh', 'jze', 'boc', 'vul', 'tmh', 'mko', 'but', 'agc'], ['nva', 'wic', 'wkm', 'ggd', 'keo', 'pbj', 'lzg', 'alg', 'hag', 'cxf', 'zqd', 'xja', 'lwt', 'ibs', 'ibh', 'liu', 'rdp', 'scq', 'ceg', 'igu'], ['ifg', 'mly', 'ziw', 'dch', 'psw', 'wgs', 'pvd', 'yfa', 'xyq', 'ejk', 'iqg', 'avc', 'xsa', 'vre', 'msx', 'fyp', 'vwk', 'qey', 'lqu', 'cmt'], ['vsh', 'xxp', 'avl', 'sqe', 'gyc', 'zlm', 'aeq', 'dim', 'fei', 'ygm', 'ihr', 'cvj', 'bgd', 'qgm', 'uot', 'qjb', 'mtv', 'ezv', 'bbz', 'fxo'], ['tap', 'pix', 'lhf', 'zzd', 'xgd', 'kej', 'mzx', 'xnk', 'kgo', 'uha', 'yzg', 'zxo', 'psa', 'wej', 'iwg', 'zqr', 'uwg', 'cya', 'pdh', 'bsb'], ['hpq', 'shl', 'hpp', 'gyc', 'yir', 'wba', 'xft', 'wqi', 'hmi', 'wyx', 'muz', 'pab', 'bhb', 'ihr', 'kzb', 'ryb', 'jge', 'tdy', 'fxu', 'ouh'], ['tqw', 'coi', 'itc', 'tvi', 'lwa', 'tsb', 'vrw', 'gxm', 'gmr', 'paq', 'bnq', 'som', 'hve', 'qkl', 'ynb', 'yot', 'enx', 'lps', 'ysm', 'emr'], ['tdy', 'zei', 'zif', 'tbd', 'upm', 'rlf', 'cws', 'bvp', 'jwa', 'wpd', 'ccp', 'xes', 'cvj', 'olq', 'yaw', 'hgz', 'fbk', 'zzb', 'ozd', 'rhv'], ['rzu', 'xbh', 'esm', 'svr', 'hhu', 'ixr', 'cca', 'gqz', 'fcx', 'znx', 'nlv', 'loo', 'bud', 'zsr', 'vxd', 'kya', 'emr', 'rxb', 'rgm', 'yuz'], ['cyo', 'jky', 'tex', 'ort', 'hit', 'xdr', 'oma', 'urj', 'hsx', 'rwj', 'nah', 'dcs', 'jrj', 'odn', 'cic', 'ezu', 'rcl', 'vwk', 'wou', 'tse'], ['zar', 'dub', 'zkf', 'mzt', 'enx', 'ggk', 'wdr', 'rai', 'bud', 'evy', 'nbi', 'ith', 'dxp', 'mnh', 'hef', 'bid', 'dpz', 'tmc', 'ryz', 'gky'], ['gyg', 'dfg', 'eke', 'ize', 'bxm', 'gxc', 'lej', 'gjk', 'dyc', 'nlv', 'jfi', 'lwe', 'abz', 'hpe', 'mfx', 'vht', 'yfm', 'wqp', 'gyc', 'yyv'], ['nrs', 'pfp', 'hrp', 'yfk', 'gnm', 'gyg', 'khk', 'zlf', 'tsb', 'vwk', 'hwi', 'mkx', 'kej', 'krd', 'okt', 'ikb', 'tmh', 'kla', 'acb', 'suj'], ['hju', 'afo', 'bbd', 'xgi', 'ynb', 'mam', 'ytu', 'dde', 'mmy', 'osr', 'rbo', 'ixu', 'toh', 'suv', 'sej', 'mex', 'rer', 'zwb', 'ref', 'dam'], ['fxu', 'hho', 'waa', 'pae', 'dvu', 'zfz', 'jsb', 'dyp', 'uqp', 'qde', 'afz', 'pwx', 'pok', 'box', 'cga', 'tof', 'xws', 'wjl', 'edp', 'jhu'], ['ggh', 'nod', 'axz', 'bkp', 'zna', 'itp', 'nkd', 'utf', 'lfg', 'zvk', 'bkd', 'gkh', 'zdx', 'neb', 'unj', 'hzy', 'iam', 'vll', 'ihv', 'mlz'], ['keo', 'wev', 'cgq', 'qhu', 'zbu', 'fkq', 'oij', 'glf', 'byt', 'njj', 'xso', 'ddj', 'dsi', 'hds', 'efl', 'uvu', 'wlb', 'qjq', 'kef', 'imc'], ['nvw', 'kgv', 'whr', 'pmi', 'sdb', 'dsa', 'fpd', 'zyf', 'mgj', 'rxl', 'eye', 'thr', 'eqq', 'zzz', 'vpy', 'ggb', 'nze', 'pcj', 'nfu', 'uzi'], ['ehz', 'wmz', 'uib', 'iml', 'ste', 'sqi', 'qrt', 'yxf', 'mns', 'nrs', 'mon', 'ypk', 'sdb', 'wgs', 'eqd', 'vst', 'saa', 'vtv', 'uax', 'vjf'], ['iqg', 'zzf', 'hsw', 'mff', 'agv', 'zew', 'idm', 'wzi', 'ajs', 'nqn', 'tbd', 'rkb', 'som', 'atg', 'pub', 'ufe', 'qsu', 'nsw', 'rty', 'qpp'], ['dgn', 'qia', 'msx', 'sye', 'vdd', 'qev', 'fcj', 'rsv', 'ruo', 'zjn', 'wjv', 'jck', 'tpn', 'ohf', 'hxv', 'olw', 'gfs', 'ojd', 'dwx', 'dpg'], ['ien', 'yvy', 'hbd', 'qjb', 'prd', 'wlb', 'fnt', 'ehz', 'rfb', 'mgj', 'eke', 'pwb', 'cch', 'wso', 'jsc', 'gxx', 'vfm', 'qyx', 'pyn', 'swx'], ['uig', 'ckw', 'bot', 'hpq', 'dez', 'bip', 'mif', 'opx', 'ogx', 'iir', 'ehz', 'soe', 'sdb', 'uzy', 'vea', 'wqi', 'ubz', 'pvs', 'nds', 'jub'], ['qvz', 'vlp', 'ydc', 'rpg', 'cdy', 'gqs', 'yeo', 'znx', 'nvo', 'xdd', 'ong', 'erq', 'ein', 'ysi', 'kbf', 'wdv', 'emj', 'jmx', 'fxv', 'txq'], ['vlw', 'wsm', 'upi', 'xmr', 'bsx', 'ynk', 'ejk', 'ucy', 'erg', 'sgn', 'pmb', 'mwc', 'goh', 'aqq', 'agv', 'ugi', 'ixh', 'jyg', 'pcr', 'ypk'], ['fkq', 'bzt', 'iqj', 'qnw', 'pyz', 'fnq', 'fcj', 'brw', 'icv', 'aof', 'cun', 'mvv', 'isb', 'mtz', 'gnf', 'duo', 'ddm', 'gjc', 'udc', 'oqp'], ['atl', 'fio', 'pop', 'gfk', 'qql', 'pad', 'mfh', 'usj', 'wgr', 'tip', 'uot', 'mpz', 'yqm', 'mgj', 'axz', 'dim', 'uqe', 'hjd', 'egp', 'yhf'], ['jeu', 'xmo', 'llz', 'aoe', 'guz', 'vxx', 'yli', 'pmb', 'aad', 'big', 'zhk', 'abv', 'aev', 'vdz', 'gpy', 'nvo', 'oom', 'gab', 'fzi', 'muz'], ['pfh', 'wja', 'fbm', 'hsw', 'cyw', 'lts', 'fye', 'jbc', 'guw', 'nui', 'tbb', 'wox', 'osr', 'mze', 'jub', 'xmr', 'fmo', 'vfm', 'vht', 'xxp'], ['npt', 'uit', 'jmh', 'sqy', 'bfv', 'szl', 'tyd', 'wrj', 'ean', 'odp', 'nxy', 'okt', 'mlt', 'zfc', 'cun', 'ysm', 'ubp', 'gan', 'fzl', 'mtz'], ['fah', 'had', 'zju', 'zws', 'qkz', 'itc', 'cqq', 'zfl', 'cmt', 'gqn', 'rxb', 'xuk', 'jex', 'ort', 'wzm', 'nll', 'xnj', 'xol', 'wal', 'yuz'], ['gao', 'yyn', 'ymh', 'lyk', 'fcx', 'xfo', 'zgs', 'urj', 'ceq', 'erg', 'iml', 'oju', 'soi', 'wqi', 'pdh', 'jsb', 'gob', 'xii', 'soe', 'izs'], ['pch', 'efz', 'zkn', 'rcl', 'bfo', 'ozi', 'rsv', 'jze', 'ouj', 'ddj', 'pfr', 'qby', 'hdz', 'fey', 'nqn', 'din', 'afw', 'ryx', 'qic', 'rwn'], ['uit', 'qyx', 'rus', 'eru', 'hbt', 'esg', 'okm', 'jec', 'ozp', 'msx', 'srh', 'whr', 'muo', 'dlp', 'bto', 'alm', 'znl', 'efl', 'jmh', 'lim'], ['txq', 'mvo', 'qln', 'ojg', 'iuh', 'ptp', 'ohd', 'vsh', 'ryb', 'faq', 'bpt', 'auw', 'rkm', 'cww', 'uha', 'czy', 'mvw', 'tgs', 'olq', 'kyd'], ['ljz', 'svr', 'xze', 'ofi', 'bfo', 'zoh', 'jbr', 'dga', 'xoc', 'vrw', 'edv', 'fnq', 'njj', 'mie', 'xoz', 'hpb', 'yqv', 'cvi', 'kgd', 'rgf'], ['bvp', 'uzi', 'ffr', 'txq', 'axz', 'hwg', 'nrq', 'lhg', 'ena', 'ekw', 'ded', 'axv', 'qpr', 'jrr', 'zdk', 'rxt', 'aev', 'toh', 'dpt', 'anl'], ['hgu', 'pok', 'sye', 'qzk', 'ucp', 'mhz', 'xes', 'pcb', 'wev', 'znl', 'pjp', 'hwx', 'tpv', 'wop', 'sos', 'lbd', 'zwm', 'thr', 'nne', 'zkk'], ['som', 'pnm', 'gab', 'jkt', 'uep', 'dvn', 'mfx', 'kio', 'zxo', 'frl', 'dsa', 'pea', 'pwj', 'dgn', 'hwx', 'hvs', 'pps', 'wvn', 'tcn', 'eix'], ['lga', 'udd', 'yrv', 'npm', 'eap', 'qwt', 'jkn', 'qpy', 'flv', 'pbj', 'ouj', 'ceg', 'quy', 'wkf', 'ols', 'kyu', 'zkf', 'xnq', 'fvt', 'mhz'], ['glt', 'wpf', 'qnw', 'lij', 'ikb', 'uyr', 'qmo', 'zlm', 'eke', 'qaj', 'him', 'iwm', 'dnj', 'cmn', 'bff', 'iir', 'ehz', 'kna', 'gvn', 'rlf'], ['vay', 'zal', 'gds', 'iam', 'qui', 'ozp', 'zlf', 'kla', 'zuo', 'vuv', 'wyc', 'cdq', 'uux', 'tmy', 'yfk', 'mex', 'whr', 'qra', 'awy', 'omc'], ['cfg', 'xmr', 'ggj', 'vxp', 'rhc', 'svn', 'dch', 'erq', 'yrb', 'ihg', 'wtb', 'jqa', 'mrs', 'dvz', 'ufk', 'mhx', 'hgk', 'xxu', 'xmj', 'rjy'], ['gya', 'kej', 'vul', 'nvh', 'ucp', 'cnz', 'bsb', 'haw', 'lvb', 'gbw', 'dnj', 'ufe', 'oof', 'gjg', 'pcr', 'vhe', 'yaw', 'jmx', 'erq', 'gyg'], ['lly', 'gqs', 'ohu', 'vpv', 'wjv', 'bdl', 'rhk', 'zju', 'enx', 'gmr', 'ixj', 'evj', 'mne', 'qkl', 'waa', 'pna', 'urg', 'ajn', 'vik', 'ybv'], ['whr', 'mvv', 'ekq', 'yeo', 'ehz', 'ptl', 'lmt', 'thr', 'dwb', 'vub', 'bkp', 'air', 'wvq', 'kmt', 'dfg', 'khp', 'upo', 'vas', 'ste', 'wop'], ['wrj', 'eup', 'vay', 'vmd', 'tqy', 'nvo', 'sgs', 'zob', 'ziq', 'nut', 'lqv', 'paj', 'rpg', 'rhc', 'tyw', 'bex', 'igu', 'hbd', 'xbh', 'jbc'], ['izd', 'hfe', 'avg', 'rcr', 'zxc', 'qrt', 'ese', 'gjk', 'lpz', 'abu', 'gqz', 'hmi', 'zts', 'wya', 'nqp', 'urj', 'xfh', 'dsu', 'vyp', 'uzy'], ['hwg', 'qnw', 'jrv', 'vzq', 'dyp', 'hdz', 'vll', 'jkn', 'fes', 'ecr', 'lnq', 'ufq', 'lwr', 'gge', 'ohu', 'rfo', 'rmw', 'hgk', 'enx', 'rdp'], ['ini', 'wvq', 'hvs', 'zee', 'dnj', 'rfh', 'edv', 'uvh', 'uqv', 'vht', 'atg', 'bbd', 'icv', 'ftg', 'vrf', 'piw', 'vej', 'oju', 'wdr', 'fkf'], ['jnb', 'alm', 'lhf', 'wgs', 'ztc', 'enx', 'xir', 'rvl', 'nqp', 'ojs', 'eup', 'uel', 'wso', 'ojk', 'vhy', 'zts', 'xdf', 'zpq', 'zqe', 'nah'], ['mxd', 'zxi', 'keb', 'adn', 'zsr', 'fjp', 'wus', 'hvq', 'vob', 'tyl', 'pps', 'nxy', 'zyr', 'thl', 'hpb', 'qev', 'osw', 'odn', 'wrj', 'gsi'], ['ixk', 'rai', 'gwi', 'ago', 'uus', 'itf', 'jmh', 'wcj', 'erp', 'qpy', 'ufq', 'jwx', 'dma', 'din', 'qra', 'epe', 'ign', 'ndi', 'brl', 'wop'], ['dnm', 'taa', 'gzf', 'kyu', 'bua', 'tob', 'xmo', 'hxg', 'aim', 'lhg', 'gmf', 'ggz', 'myu', 'ioe', 'ipc', 'anl', 'xyp', 'jgn', 'qev', 'zob'], ['oal', 'rwj', 'ttg', 'dql', 'tfh', 'wrj', 'pae', 'zxi', 'kxj', 'rhk', 'wiv', 'saa', 'rtd', 'usj', 'ipb', 'eqe', 'vcr', 'hpn', 'jww', 'wdr'], ['unp', 'xmo', 'gfk', 'lby', 'gqt', 'vpo', 'ggb', 'djw', 'yqv', 'qev', 'mzt', 'lnn', 'gvz', 'zif', 'nls', 'sqy', 'hkp', 'tgs', 'nrl', 'eqq'], ['wgn', 'wpd', 'rhj', 'vky', 'fah', 'mfh', 'vtv', 'cqg', 'cpn', 'wop', 'bto', 'ghc', 'ggd', 'awv', 'qrt', 'afw', 'ygv', 'qlm', 'aea', 'hhu'], ['jrn', 'ufe', 'rfb', 'utf', 'dlg', 'hac', 'hxv', 'ocn', 'jel', 'zfz', 'ylh', 'vgw', 'psx', 'uxl', 'vpx', 'bne', 'igd', 'rgm', 'whw', 'oyk'], ['ekc', 'ywd', 'lxv', 'maf', 'vzy', 'sci', 'tgr', 'iml', 'rgf', 'vok', 'mbb', 'yau', 'gan', 'cqg', 'hds', 'bcs', 'ryb', 'tyv', 'cxw', 'zws'], ['gjm', 'ngs', 'kko', 'far', 'sgn', 'xyc', 'wpc', 'xnj', 'tph', 'ihr', 'ggj', 'zjn', 'wkp', 'ukh', 'nax', 'vac', 'sru', 'jgn', 'lhf', 'qdb'], ['ihv', 'zwm', 'sqe', 'vej', 'hvt', 'bnz', 'dpt', 'ojs', 'vvo', 'gky', 'pwx', 'qkf', 'aun', 'cnx', 'nui', 'crl', 'iqs', 'dcn', 'ntz', 'ttv'], ['onu', 'quy', 'kgp', 'vuv', 'irc', 'udp', 'ofq', 'zpq', 'bua', 'gnf', 'wdv', 'twd', 'mqn', 'rfx', 'dsu', 'loo', 'tis', 'xgi', 'gfw', 'kyh'], ['moi', 'nlv', 'qlb', 'zzd', 'rdv', 'bfa', 'mrs', 'urg', 'kzz', 'pvs', 'pya', 'bqm', 'yrh', 'gnr', 'ucp', 'omo', 'jor', 'ixa', 'lyu', 'pjb'], ['lyk', 'tph', 'ybv', 'dlg', 'yzg', 'ixa', 'vfm', 'aqq', 'xas', 'osw', 'zay', 'yfk', 'qxg', 'zdo', 'wgs', 'htj', 'bru', 'zck', 'zts', 'esg'], ['hyg', 'adu', 'wqp', 'gjn', 'xnj', 'onz', 'zqd', 'dlg', 'igd', 'amc', 'pkh', 'vor', 'rpg', 'xyp', 'fqh', 'stv', 'bud', 'fdj', 'rcl', 'ttb'], ['ymh', 'wnr', 'qvg', 'xgi', 'luh', 'rzv', 'atl', 'ubo', 'zyp', 'syj', 'skb', 'upf', 'hgu', 'cxf', 'sgn', 'mai', 'acb', 'xkt', 'ucq', 'acr'], ['tbf', 'dam', 'kgd', 'cww', 'ddu', 'zkq', 'mhz', 'rfj', 'xno', 'hac', 'phh', 'dgn', 'xit', 'age', 'zkf', 'nsk', 'ftz', 'rpm', 'wlb', 'inw'], ['lrb', 'ghj', 'jnl', 'bfa', 'lfv', 'roc', 'sgn', 'dga', 'bqm', 'svn', 'cxw', 'ptl', 'dge', 'cpn', 'zry', 'gxm', 'eql', 'opx', 'mly', 'evl'], ['gjn', 'bfq', 'fad', 'xxp', 'oyk', 'lnj', 'zlm', 'seg', 'pnm', 'eqe', 'lzc', 'ksl', 'imc', 'tyw', 'trh', 'gph', 'uud', 'fbp', 'hom', 'bii'], ['ewj', 'hzn', 'lyk', 'hkp', 'zqb', 'ryx', 'lal', 'gya', 'rhc', 'pjp', 'pmb', 'zhk', 'jrj', 'hvt', 'mzx', 'rtw', 'pkx', 'mqr', 'lma', 'avm'], ['guw', 'mlb', 'wiv', 'ntk', 'nhd', 'qgm', 'uvu', 'pzz', 'cfg', 'rmw', 'kla', 'zxk', 'abg', 'ckw', 'dyp', 'ecx', 'mko', 'nok', 'nod', 'qqr'], ['dge', 'waa', 'atw', 'jrr', 'aev', 'mkx', 'vdl', 'cqq', 'gzf', 'fcs', 'klq', 'kzb', 'ean', 'odb', 'drs', 'lgj', 'dfg', 'dvv', 'itp', 'cnz'], ['qyh', 'dez', 'rst', 'wjl', 'wen', 'cpc', 'vrr', 'qjr', 'qnw', 'vas', 'ycg', 'aep', 'iwr', 'vmd', 'npm', 'nrs', 'lwd', 'xgd', 'iuh', 'omo'], ['dtg', 'zlf', 'lqh', 'ybd', 'mrv', 'zxc', 'izd', 'iau', 'aev', 'cwn', 'vpx', 'bvn', 'mtz', 'bcs', 'igu', 'chu', 'ntk', 'kgt', 'fei', 'iab'], ['rwn', 'xxu', 'wfx', 'uig', 'dvz', 'tgv', 'nqn', 'lal', 'vfm', 'jhz', 'ioy', 'hiy', 'ezv', 'mbb', 'cvj', 'omc', 'fnt', 'pmb', 'iwm', 'mjs'], ['rzv', 'tpj', 'lva', 'xwg', 'lqk', 'anl', 'uce', 'inw', 'hvq', 'nax', 'iyi', 'bap', 'awv', 'hef', 'ela', 'qde', 'nva', 'xze', 'ubo', 'dwy'], ['jfi', 'vos', 'ejz', 'iuj', 'rus', 'qvl', 'ohf', 'rvl', 'ijd', 'jeu', 'itc', 'ort', 'znx', 'iqo', 'suj', 'abg', 'gkh', 'uku', 'nut', 'dek'], ['fad', 'sxr', 'igd', 'nze', 'mkh', 'fwb', 'kgm', 'czx', 'dlp', 'dch', 'wyx', 'jze', 'tpj', 'uhg', 'jgo', 'dru', 'inw', 'mbb', 'mut', 'chy'], ['ojg', 'zts', 'tsb', 'rai', 'dhn', 'pae', 'gkh', 'xqn', 'fxu', 'yir', 'cwe', 'zsm', 'qvl', 'vnt', 'uzi', 'lij', 'itp', 'mhl', 'ufe', 'axz'], ['izs', 'jsc', 'wso', 'abc', 'cmm', 'cok', 'ttb', 'cnx', 'lve', 'ycg', 'orh', 'ouj', 'hom', 'fvi', 'vyn', 'drs', 'twu', 'fcj', 'rzk', 'jxn'], ['nds', 'ddj', 'qvl', 'tqw', 'fye', 'ixu', 'kgo', 'opv', 'tta', 'tgn', 'inw', 'xxe', 'qev', 'hpo', 'jtc', 'qug', 'qow', 'vwq', 'gwi', 'vfp'], ['cic', 'hzr', 'ibi', 'agc', 'pzx', 'tgv', 'edp', 'stv', 'gab', 'wyc', 'ctm', 'tyo', 'swe', 'vpy', 'okm', 'bcs', 'ggb', 'oal', 'zry', 'ntn'], ['ufk', 'ysj', 'hmk', 'qdm', 'iqs', 'yfk', 'pwv', 'mwc', 'vhg', 'ioe', 'udd', 'qsu', 'ijp', 'aim', 'unn', 'may', 'gnf', 'vyw', 'qxu', 'ghd'], ['gch', 'zra', 'bnq', 'zqr', 'zux', 'vhe', 'tbm', 'crp', 'hpq', 'dzc', 'odi', 'rem', 'piw', 'ohf', 'sqe', 'cpr', 'quy', 'lps', 'xjj', 'kya'], ['roc', 'nzs', 'lej', 'qfd', 'zay', 'tcn', 'qfu', 'snc', 'gne', 'gpa', 'bzt', 'pya', 'ewv', 'hxg', 'tip', 'mkx', 'dim', 'upf', 'xxp', 'cok'], ['vea', 'xnj', 'jjf', 'uqv', 'gry', 'vuv', 'gxc', 'mud', 'npg', 'ypk', 'wce', 'dim', 'gkh', 'gvf', 'tbf', 'bvp', 'zkq', 'lqv', 'nxi', 'ydx'], ['kca', 'pdh', 'mgj', 'hbd', 'tph', 'agc', 'mlb', 'nls', 'brv', 'lrb', 'bap', 'ypo', 'tip', 'yzg', 'yhf', 'zkk', 'lfg', 'xnj', 'uot', 'oou'], ['tdp', 'thl', 'pvu', 'hac', 'hve', 'mly', 'gan', 'jck', 'llz', 'ypm', 'eak', 'hgu', 'xso', 'wpf', 'xbh', 'rbc', 'qde', 'jsh', 'zbt', 'dek'], ['dlu', 'wic', 'hhu', 'ycg', 'unn', 'zqa', 'wgr', 'oxc', 'zgk', 'atw', 'wjv', 'zdx', 'atl', 'wdr', 'taa', 'jig', 'ewm', 'ygv', 'mxd', 'zkc'], ['vst', 'xhc', 'nhy', 'trh', 'que', 'qde', 'btm', 'mlp', 'ogx', 'dzz', 'fkf', 'seg', 'keb', 'mga', 'ela', 'acr', 'ucq', 'rvl', 'wgs', 'tmg'], ['apr', 'hsx', 'xdr', 'nls', 'jce', 'onu', 'cws', 'saa', 'dgl', 'gwi', 'kgd', 'mai', 'yot', 'czx', 'ibj', 'cfg', 'bqh', 'pfp', 'rcl', 'uus'], ['cca', 'mar', 'rsc', 'myu', 'jif', 'ulm', 'qak', 'xmd', 'wzi', 'nls', 'tcw', 'dps', 'ymk', 'isb', 'zsh', 'qkz', 'jmh', 'nxi', 'dim', 'ttr'], ['jjf', 'qjh', 'sci', 'wdv', 'ggd', 'okt', 'mhz', 'awv', 'isb', 'mze', 'ggb', 'pop', 'uuf', 'dch', 'dsf', 'ywd', 'bru', 'qui', 'vfp', 'zjn'], ['qnw', 'rvl', 'cxw', 'eru', 'wgs', 'jeb', 'zkn', 'hpo', 'ltv', 'hag', 'ygv', 'yvh', 'vqh', 'hpq', 'ugi', 'iyu', 'znx', 'btj', 'zwh', 'ttg'], ['mvo', 'yvd', 'ycg', 'kio', 'ngq', 'lva', 'owq', 'hjv', 'anr', 'dql', 'qjh', 'aqb', 'esm', 'ofg', 'dzj', 'ctm', 'jtc', 'upo', 'yag', 'hwy'], ['znx', 'skb', 'uxj', 'hxo', 'jft', 'psw', 'lbd', 'rty', 'wlb', 'ynk', 'cgq', 'qic', 'jhf', 'uep', 'ndt', 'itc', 'zzb', 'suj', 'iam', 'zjl'], ['zkc', 'hiy', 'hve', 'nhy', 'mzt', 'jwx', 'mnh', 'ijd', 'plo', 'vrj', 'pmb', 'mrq', 'gzn', 'rgm', 'dcu', 'xof', 'vns', 'mxd', 'oyw', 'wvq'], ['tbb', 'tvi', 'zvf', 'gwi', 'qfu', 'gnr', 'ucq', 'ize', 'upf', 'ttv', 'boc', 'rsc', 'vef', 'cpn', 'onz', 'ena', 'piy', 'ggh', 'mud', 'dhn'], ['hag', 'qwk', 'wjv', 'qvl', 'glt', 'jwx', 'syj', 'wen', 'kzz', 'jxz', 'ken', 'emh', 'cgq', 'fcj', 'qia', 'wyc', 'ljz', 'pve', 'urj', 'pna'], ['xdr', 'pna', 'pve', 'wjv', 'fqt', 'cpr', 'pfr', 'gbw', 'lvb', 'psx', 'vul', 'mhq', 'dvd', 'mnh', 'mns', 'yqj', 'paq', 'fwb', 'faq', 'gjm'], ['sfv', 'szx', 'vdr', 'src', 'xnk', 'xtz', 'rfs', 'dzk', 'hgz', 'pkh', 'xwk', 'jor', 'alm', 'avm', 'rbo', 'uau', 'cqw', 'ptl', 'brl', 'mtv'], ['rsc', 'ccp', 'anr', 'hvt', 'pjg', 'jrj', 'xvb', 'fei', 'sdx', 'bip', 'dlo', 'ybv', 'zei', 'qsu', 'tgr', 'wpc', 'yfm', 'tmc', 'ajs', 'gnm'], ['eee', 'zmb', 'ubp', 'dyp', 'wed', 'iqj', 'sdx', 'ugc', 'lbt', 'jtc', 'gar', 'upf', 'rfs', 'vlw', 'dtf', 'bbq', 'xas', 'fth', 'qna', 'ysj'], ['gwi', 'vzv', 'ujm', 'zbt', 'gkh', 'pfh', 'hmk', 'bot', 'msm', 'txe', 'hzn', 'ucy', 'vmi', 'aay', 'vok', 'nhn', 'gxc', 'vsn', 'vht', 'mmy'], ['tch', 'hoo', 'vrr', 'seg', 'wjp', 'abz', 'zgg', 'ggh', 'ubo', 'mns', 'vac', 'qpy', 'zyf', 'znw', 'lch', 'wym', 'baq', 'vas', 'qjq', 'fnq'], ['ozp', 'ngd', 'ese', 'vbr', 'bkz', 'dlp', 'jkm', 'ejk', 'hww', 'ljz', 'zgs', 'tup', 'hom', 'tof', 'aea', 'sru', 'qrd', 'plo', 'htp', 'ubt'], ['gxm', 'akj', 'nax', 'cic', 'vll', 'emj', 'gob', 'bhb', 'eyt', 'whg', 'wwg', 'gnr', 'rtx', 'rhk', 'swl', 'xft', 'ohf', 'qpy', 'rwn', 'zsh'], ['wev', 'izs', 'avz', 'olr', 'vnt', 'sos', 'mqn', 'lfg', 'pve', 'zxi', 'btm', 'cak', 'sii', 'lzg', 'bqj', 'rcl', 'wmz', 'zna', 'vzv', 'evl'], ['dps', 'qpc', 'zis', 'xoz', 'hgz', 'erp', 'pma', 'nok', 'seg', 'odn', 'zjq', 'ovf', 'vdi', 'nll', 'fxu', 'vdr', 'pxl', 'pkh', 'lpz', 'brv'], ['hot', 'dtf', 'tpn', 'uyr', 'neh', 'dla', 'xze', 'ygv', 'szl', 'lby', 'vzv', 'ago', 'jbv', 'trl', 'pjc', 'gxm', 'zzz', 'skb', 'wvw', 'cjk'], ['hwx', 'mqd', 'hjd', 'pju', 'hva', 'zyw', 'hom', 'atl', 'kjl', 'aun', 'ttb', 'qsu', 'nrs', 'mxd', 'jee', 'rst', 'zoh', 'zdx', 'rcl', 'xhc'], ['mvw', 'lag', 'fap', 'thl', 'yrb', 'gzn', 'bid', 'tqw', 'nhd', 'nyi', 'urs', 'uux', 'pyh', 'jcx', 'vlb', 'xvb', 'ovf', 'psa', 'zfz', 'vik'], ['kyn', 'rnz', 'npt', 'dgn', 'qpd', 'abg', 'pkx', 'ezv', 'epe', 'qof', 'vrz', 'xdf', 'qjr', 'ize', 'cyo', 'cws', 'kgp', 'wgf', 'sry', 'jxn'], ['yvh', 'uus', 'rsk', 'zqs', 'zxk', 'jvf', 'zlm', 'brp', 'vdr', 'xol', 'uyu', 'vac', 'ipc', 'kjy', 'tfq', 'fcp', 'ong', 'ais', 'igu', 'ejk'], ['mkh', 'uib', 'zzb', 'mlb', 'aim', 'qna', 'iiu', 'piw', 'hoq', 'roc', 'ouh', 'gqt', 'lex', 'qva', 'qof', 'whg', 'fuy', 'ajn', 'jkm', 'sqs'], ['mff', 'gew', 'wej', 'gxc', 'vyn', 'eqq', 'esm', 'mwv', 'ivs', 'odi', 'ojk', 'irf', 'erg', 'zzz', 'xvb', 'epe', 'kyd', 'xdd', 'hpd', 'zkf'], ['efz', 'swx', 'nlv', 'mlb', 'odi', 'cqk', 'fpl', 'nut', 'muo', 'yrh', 'bqm', 'mja', 'bik', 'lve', 'vbo', 'wks', 'pty', 'fmz', 'bfq', 'xir'], ['hxv', 'mud', 'mai', 'pnm', 'oom', 'vul', 'zyf', 'itf', 'hpq', 'dsi', 'hzr', 'zna', 'cya', 'jhf', 'bua', 'uzi', 'qym', 'vwk', 'mns', 'myu'], ['mqh', 'ize', 'hqx', 'pzz', 'xmd', 'mnh', 'sxa', 'xnq', 'aof', 'vma', 'fye', 'piy', 'fgk', 'flv', 'veu', 'pyh', 'lqu', 'ozi', 'eak', 'sry'], ['ted', 'jic', 'hmk', 'pty', 'jnb', 'lag', 'hpp', 'wik', 'tbb', 'qqy', 'gds', 'afz', 'vdr', 'boc', 'wpc', 'dxa', 'ubd', 'wmz', 'vyw', 'cvi'], ['nah', 'jjf', 'hwy', 'cxw', 'jce', 'cyo', 'qmo', 'fcs', 'hgu', 'cmf', 'jfi', 'yrv', 'veu', 'ptl', 'yqc', 'eso', 'sgb', 'kmt', 'yhf', 'yug'], ['gjg', 'mbu', 'ufq', 'zjv', 'ese', 'ztc', 'pjk', 'nrg', 'zlf', 'ojk', 'wjp', 'jce', 'ygm', 'vdd', 'xlb', 'mam', 'lnq', 'bto', 'yhl', 'bnt'], ['nod', 'kna', 'rxl', 'bgd', 'chj', 'zls', 'vtv', 'eru', 'din', 'zom', 'xdr', 'eix', 'hwi', 'vlw', 'zsr', 'xjj', 'yms', 'mvw', 'hae', 'kxv'], ['zju', 'ste', 'fqt', 'wic', 'eki', 'bne', 'lyk', 'ryj', 'hpe', 'acb', 'jee', 'bbz', 'aok', 'nds', 'ewm', 'pns', 'qrg', 'uwk', 'mhl', 'bak'], ['qlb', 'hom', 'ioe', 'fmz', 'dqu', 'nmx', 'bne', 'okm', 'ddu', 'may', 'gqt', 'bfa', 'hrn', 'fjp', 'skb', 'ivf', 'ebg', 'lij', 'dnm', 'wvw'], ['ryj', 'vdl', 'ago', 'csj', 'gnf', 'vqy', 'jex', 'dge', 'zbu', 'uwt', 'fnl', 'ypo', 'coi', 'zwh', 'qpy', 'vdr', 'gto', 'phh', 'aer', 'jcs'], ['zxc', 'iam', 'evl', 'rcr', 'aad', 'rrs', 'vmi', 'twu', 'nod', 'hsw', 'mrv', 'qnn', 'ovf', 'alv', 'jvn', 'jze', 'pve', 'iea', 'sdw', 'jft'], ['arf', 'znl', 'ecx', 'qpy', 'qhu', 'vos', 'fye', 'gjn', 'xfh', 'jcx', 'avc', 'zts', 'eso', 'udc', 'yrb', 'cbj', 'vqh', 'phh', 'jor', 'iir'], ['pju', 'tip', 'lhf', 'vwk', 'frl', 'ajg', 'jjl', 'uds', 'hxv', 'jig', 'fbp', 'erp', 'zne', 'lxv', 'ebg', 'biz', 'wjv', 'wba', 'jck', 'zwb'], ['sii', 'itf', 'jif', 'ojm', 'llz', 'iea', 'ixa', 'igo', 'pgb', 'qdi', 'mez', 'gnj', 'rai', 'mly', 'bsb', 'ubd', 'pea', 'tyw', 'yau', 'ckb'], ['ela', 'qum', 'kjl', 'jqs', 'rty', 'gch', 'mqw', 'jfi', 'qow', 'ldg', 'txs', 'mwc', 'dgg', 'hit', 'lqv', 'wgn', 'cwe', 'yrh', 'jbm', 'qax'], ['uuh', 'wkf', 'gds', 'jec', 'wiv', 'mrq', 'djf', 'zqa', 'sec', 'mhf', 'stb', 'ozd', 'iwm', 'xja', 'hkx', 'syg', 'yuz', 'ste', 'uvn', 'paj'], ['wsm', 'fes', 'lol', 'ais', 'jub', 'xdt', 'lwd', 'ydc', 'bwq', 'ucq', 'yvy', 'awv', 'nsw', 'uqp', 'yug', 'gjm', 'vky', 'tvu', 'rlp', 'gmf'], ['gne', 'npt', 'ltv', 'ftg', 'iqz', 'dnj', 'nhy', 'ttv', 'szl', 'bbq', 'hng', 'htj', 'tpj', 'rxl', 'ykj', 'cqw', 'rlp', 'oxn', 'gtz', 'fov'], ['iki', 'lgj', 'xit', 'uus', 'ngq', 'ouj', 'zkn', 'gzn', 'xyq', 'keb', 'gfs', 'dwy', 'vac', 'gle', 'ybv', 'xyz', 'xqn', 'qjh', 'liu', 'uib'], ['rty', 'kmv', 'ohq', 'dtf', 'sve', 'erg', 'zdo', 'vgn', 'hpd', 'oof', 'vxx', 'gxp', 'nxi', 'pad', 'seg', 'upf', 'vzq', 'zyp', 'oyw', 'evy'], ['pjp', 'yce', 'dek', 'fov', 'sxr', 'vsq', 'phh', 'dwg', 'msx', 'odb', 'mmy', 'xws', 'efv', 'cld', 'gme', 'rvl', 'ozs', 'nhd', 'bzq', 'ajn'], ['ojd', 'maf', 'mkx', 'mmy', 'eap', 'erg', 'zck', 'ibh', 'ajs', 'jli', 'dvu', 'tsb', 'uwf', 'sec', 'soe', 'yas', 'sry', 'wzi', 'gsi', 'yqm'], ['lwr', 'mzt', 'vdf', 'khp', 'itl', 'txe', 'krd', 'idm', 'olw', 'pjc', 'upi', 'ceq', 'hpd', 'eyo', 'oij', 'ibi', 'ysm', 'sye', 'gvz', 'cok'], ['tqy', 'zay', 'klj', 'bol', 'rcr', 'ckb', 'ocn', 'okt', 'keb', 'xua', 'rxb', 'zyf', 'led', 'sbr', 'pzx', 'rps', 'czs', 'bcu', 'wgn', 'ohd'], ['pub', 'muz', 'oma', 'qln', 'zpq', 'ong', 'qtp', 'sim', 'sur', 'qpy', 'zlm', 'juy', 'jeu', 'uyr', 'wnr', 'seg', 'pps', 'akj', 'qow', 'qsj'], ['vnt', 'pwx', 'gtz', 'vas', 'wop', 'fqt', 'ort', 'nfu', 'htp', 'zoh', 'kmv', 'hot', 'bot', 'tsb', 'aet', 'klj', 'ixk', 'ckl', 'hhu', 'zhk'], ['eke', 'ggd', 'iqz', 'zvq', 'rlp', 'iir', 'ckw', 'ais', 'neh', 'hwx', 'qum', 'rfh', 'ixe', 'zwb', 'lqc', 'cvz', 'quy', 'sgb', 'lbt', 'hnb'], ['ijp', 'nhd', 'dxa', 'xxu', 'kgm', 'frn', 'irj', 'xgd', 'xsr', 'iyu', 'kio', 'tbb', 'roc', 'mex', 'gjt', 'cga', 'gds', 'bua', 'crl', 'zxc'], ['tyv', 'qrg', 'jkn', 'cif', 'uzp', 'dru', 'bud', 'qby', 'ipc', 'vbr', 'pwj', 'zco', 'lwa', 'rzk', 'frl', 'xdf', 'lmv', 'cun', 'ith', 'rkb'], ['xoe', 'iwg', 'wvq', 'nvw', 'ano', 'nsa', 'din', 'hgu', 'zqw', 'hpp', 'aal', 'brp', 'wzb', 'srh', 'cbi', 'zls', 'owq', 'jel', 'jze', 'qfx'], ['uux', 'cch', 'goe', 'wtb', 'onu', 'iam', 'ikg', 'zyz', 'ocn', 'kjy', 'qxu', 'bch', 'ygn', 'ugo', 'vub', 'awo', 'ewl', 'hdz', 'rjc', 'gpy'], ['ioy', 'pok', 'zyd', 'wqf', 'vac', 'bbd', 'zee', 'qax', 'gto', 'qhu', 'nne', 'fey', 'lex', 'aal', 'ysj', 'tad', 'cic', 'kzb', 'gme', 'ref'], ['pjg', 'gmf', 'box', 'mff', 'qpr', 'air', 'lqc', 'rdv', 'mon', 'tbd', 'rps', 'xnq', 'jsc', 'yyn', 'rcl', 'dpz', 'bwq', 'abv', 'fkf', 'rdc'], ['hqx', 'gvf', 'xwa', 'mze', 'rfx', 'rzo', 'lhg', 'xoe', 'ymf', 'gfw', 'dyh', 'vas', 'rps', 'fth', 'red', 'zzf', 'ybd', 'wpm', 'ixu', 'lod'], ['rfj', 'sbi', 'npg', 'fhu', 'klj', 'hbc', 'uuf', 'xft', 'saa', 'zxi', 'tbm', 'pub', 'efz', 'xvb', 'wmg', 'mwc', 'tsb', 'hpn', 'czs', 'upi'], ['rfx', 'whr', 'dwy', 'fzi', 'abz', 'jvu', 'kbr', 'cgq', 'gab', 'tbb', 'ozs', 'ymk', 'crl', 'dgl', 'hng', 'wox', 'qof', 'hzn', 'oag', 'cnz'], ['mom', 'abc', 'dch', 'pzx', 'gew', 'mai', 'gcl', 'fvc', 'rtd', 'tpi', 'rrs', 'nah', 'efl', 'wiq', 'pya', 'lfv', 'egb', 'lqv', 'eup', 'dip'], ['yqc', 'cws', 'pcr', 'lqh', 'jqs', 'pgb', 'tgn', 'ihg', 'pic', 'dlg', 'zgg', 'huz', 'hpp', 'gxp', 'pkh', 'hxg', 'pmi', 'kyn', 'fcp', 'ngs'], ['ihg', 'uyr', 'psa', 'qum', 'mez', 'ewl', 'wks', 'adu', 'dnm', 'iql', 'hbd', 'dwg', 'wvn', 'ozp', 'shd', 'gqn', 'tww', 'gbw', 'aan', 'kyn'], ['frn', 'tta', 'zws', 'iyu', 'pju', 'iuh', 'inw', 'ujz', 'rrs', 'six', 'avl', 'stv', 'ese', 'lby', 'hgb', 'wen', 'tgd', 'wjg', 'pjp', 'bxm'], ['qaj', 'pop', 'vjf', 'twd', 'akf', 'cqg', 'jck', 'igu', 'pcb', 'gch', 'yas', 'egp', 'eqd', 'yrv', 'jga', 'ybd', 'enx', 'adu', 'qsj', 'rlx'], ['imc', 'mnh', 'qmv', 'ugo', 'upi', 'lhg', 'iwm', 'ppq', 'zjq', 'qnw', 'jkt', 'bua', 'vei', 'nll', 'tlz', 'ort', 'slt', 'cxf', 'rgm', 'pgb'], ['vgw', 'vns', 'gzn', 'zqa', 'plo', 'bfv', 'acr', 'ckb', 'kkt', 'pkh', 'xbh', 'jeu', 'ezv', 'ccp', 'cjk', 'uhg', 'ggk', 'kko', 'ogx', 'oju'], ['vdz', 'bhb', 'yyn', 'box', 'baq', 'yot', 'jbm', 'igu', 'eqv', 'vdl', 'ncb', 'tkn', 'ifg', 'tyv', 'ixi', 'abz', 'yaw', 'gtz', 'mfh', 'tex'], ['uvu', 'xol', 'air', 'jvu', 'sqy', 'gqn', 'ndt', 'uep', 'hoq', 'dde', 'qys', 'dpz', 'lqc', 'dsu', 'emr', 'yyv', 'tbd', 'tch', 'zco', 'ddj'], ['vjf', 'eqi', 'rtd', 'yau', 'aep', 'yeo', 'pya', 'lhg', 'idm', 'bfo', 'bik', 'lmt', 'qjr', 'ipc', 'yot', 'jxn', 'rjy', 'efl', 'tnl', 'jic'], ['led', 'qnn', 'dgg', 'hmk', 'epw', 'wcj', 'qjr', 'gkl', 'fpd', 'mbb', 'ymh', 'sos', 'qak', 'ano', 'iqs', 'zxh', 'qrg', 'hpc', 'bcv', 'qia'], ['kbf', 'obl', 'jbm', 'qpe', 'wnr', 'qpy', 'qys', 'zck', 'ngq', 'qum', 'jac', 'udc', 'jgn', 'zjn', 'ndi', 'zzz', 'ldg', 'zts', 'ejz', 'fpl'], ['ndi', 'iiu', 'tch', 'edh', 'uhg', 'gew', 'twd', 'qnw', 'ytu', 'lpt', 'hhu', 'ard', 'huz', 'ijp', 'pub', 'mlz', 'gxs', 'ggh', 'hiy', 'rcj'], ['zdk', 'gge', 'iyj', 'zsh', 'jra', 'vft', 'aer', 'ixk', 'big', 'chy', 'tkn', 'rzo', 'gnf', 'rgm', 'gsn', 'kjl', 'ubd', 'hit', 'xoe', 'gbw'], ['ghc', 'haw', 'hgu', 'zob', 'ard', 'yqm', 'brw', 'fov', 'oqv', 'zgk', 'zls', 'nrq', 'dzj', 'xfz', 'cdy', 'jcm', 'jnb', 'ubz', 'dlo', 'frl'], ['hey', 'jxz', 'jor', 'zww', 'tnk', 'ftv', 'rps', 'dyi', 'mko', 'hen', 'qwi', 'omo', 'zgq', 'mwv', 'xaw', 'uwg', 'qpe', 'eat', 'wya', 'cdy'], ['sry', 'czu', 'kzz', 'pbz', 'ucp', 'jaa', 'oqp', 'akq', 'xoz', 'thl', 'igo', 'mxr', 'zee', 'izs', 'jky', 'rfh', 'eyt', 'ptl', 'kgp', 'aet'], ['ard', 'vea', 'nah', 'ujz', 'wmy', 'nfu', 'hef', 'sos', 'zyr', 'mhx', 'jsp', 'dsa', 'yvq', 'bxl', 'egp', 'rnz', 'zuc', 'bzd', 'otk', 'qra'], ['yrv', 'ovf', 'qkf', 'ddm', 'nok', 'kkt', 'xsa', 'pqo', 'bat', 'qqr', 'ezv', 'xoj', 'vsn', 'taa', 'jfi', 'xdd', 'qwi', 'hng', 'jtc', 'jrv'], ['rxl', 'hjd', 'mgj', 'gvn', 'rsk', 'imq', 'url', 'wks', 'ixe', 'gpy', 'sxr', 'dsf', 'abc', 'mqw', 'odb', 'dcu', 'dso', 'twu', 'urg', 'mom'], ['ipb', 'juy', 'aev', 'hgb', 'ddj', 'dvu', 'rcy', 'swx', 'dgl', 'jge', 'bdg', 'hzy', 'cqq', 'onz', 'dgg', 'tpi', 'sdw', 'erp', 'jvu', 'liu'], ['xwk', 'avc', 'gge', 'frl', 'gwl', 'cjk', 'kyn', 'tup', 'dcu', 'ard', 'fzi', 'bhb', 'ihg', 'czx', 'ubt', 'tdp', 'tny', 'dwg', 'jsh', 'cla'], ['uuf', 'mko', 'iyi', 'rmp', 'jub', 'knd', 'cwe', 'agv', 'kvz', 'aet', 'agc', 'qoa', 'ean', 'czx', 'hnq', 'igr', 'ndt', 'jjl', 'kgd', 'qlm'], ['zry', 'lij', 'gfw', 'qfd', 'enx', 'aof', 'rcr', 'mkx', 'jkn', 'sdm', 'xyp', 'odp', 'nxi', 'yvy', 'xgd', 'ihg', 'xvz', 'auw', 'ttr', 'ftg'], ['rfh', 'rfj', 'zxi', 'erp', 'seu', 'tyw', 'gew', 'hom', 'vuv', 'rzf', 'pab', 'oju', 'xxu', 'bmu', 'sug', 'aqw', 'hvq', 'maf', 'gya', 'zxo'], ['aqq', 'yhl', 'apv', 'zts', 'tfh', 'lnn', 'fad', 'iam', 'sqy', 'iqj', 'pqo', 'atw', 'gjc', 'bvj', 'fzl', 'pjc', 'jwx', 'ujz', 'afw', 'ezv'], ['mgj', 'whg', 'uqv', 'jlo', 'dwy', 'mye', 'xdf', 'wzi', 'vma', 'cqq', 'sgn', 'rpm', 'rwj', 'vzv', 'nah', 'swx', 'jeu', 'qln', 'yxn', 'yhl'], ['rnt', 'txe', 'toj', 'ahi', 'flz', 'qfx', 'vpv', 'ski', 'dvu', 'ubo', 'pgb', 'fqh', 'pdh', 'soe', 'gqn', 'dwx', 'znl', 'jmx', 'ysb', 'jsh'], ['tmh', 'zna', 'ryj', 'eke', 'box', 'ukh', 'ibg', 'sgs', 'vrw', 'ysi', 'baq', 'lzc', 'kvn', 'rtx', 'xhi', 'sfv', 'saa', 'zkc', 'wff', 'unp'], ['age', 'zfs', 'ojm', 'kjl', 'tyl', 'rbo', 'iiu', 'url', 'olw', 'hhu', 'qax', 'vso', 'imp', 'hyy', 'ajs', 'afx', 'mwy', 'ddw', 'vlp', 'oxn'], ['ryd', 'ppq', 'lwd', 'kgd', 'fcs', 'kgp', 'aim', 'pcb', 'tyv', 'eyt', 'bid', 'keo', 'hww', 'jqa', 'lwr', 'cic', 'ogz', 'neb', 'cch', 'krd'], ['yrh', 'zzf', 'fjp', 'lej', 'fah', 'lwa', 'ntk', 'huz', 'aof', 'qpe', 'vrf', 'tgn', 'sve', 'dga', 'vrr', 'jvf', 'cbi', 'bsy', 'scq', 'vvo'], ['uax', 'wyx', 'dwy', 'wce', 'omo', 'vhy', 'cpc', 'zsh', 'xsl', 'nxi', 'vgw', 'ymk', 'ekq', 'vpv', 'kzz', 'cld', 'wlb', 'vdi', 'utf', 'rbo'], ['air', 'fvi', 'eke', 'gxm', 'upm', 'uha', 'mqn', 'vnt', 'itc', 'sbv', 'dwg', 'wpd', 'kkt', 'vzq', 'rus', 'ubd', 'lmt', 'kpp', 'yau', 'odn'], ['xhz', 'lnn', 'hgk', 'utw', 'gjt', 'btm', 'wks', 'atw', 'wck', 'vma', 'maf', 'bid', 'keb', 'otv', 'xxl', 'zqs', 'zbt', 'cbj', 'bsb', 'mkx'], ['qva', 'urj', 'fgk', 'sos', 'mkx', 'bee', 'lqk', 'mez', 'ano', 'vgw', 'wyv', 'xdr', 'mar', 'ena', 'gsn', 'itc', 'ttg', 'upi', 'rsk', 'uel'], ['ewv', 'nls', 'iuj', 'hrn', 'gds', 'tpj', 'cyw', 'imq', 'lts', 'hpe', 'xvz', 'rjy', 'fyp', 'zee', 'bru', 'hpd', 'bsb', 'txs', 'wgr', 'cmf'], ['alm', 'ynk', 'zgq', 'mko', 'eqd', 'jif', 'cxf', 'cqw', 'qsu', 'xvb', 'esm', 'cak', 'vul', 'hsw', 'bbl', 'ihr', 'jhu', 'zxc', 'wff', 'cdx'], ['qug', 'gjc', 'ksq', 'esg', 'adv', 'brv', 'vyp', 'ere', 'zkq', 'ixj', 'svr', 'ani', 'txe', 'pyn', 'jrr', 'ovy', 'iuh', 'uvl', 'pve', 'flz'], ['zzf', 'uce', 'xno', 'nne', 'zcc', 'zqr', 'srw', 'olr', 'wed', 'dnj', 'hgz', 'yll', 'ddm', 'hbj', 'jyg', 'ack', 'upf', 'gxp', 'coi', 'bcs'], ['lmt', 'rfb', 'tza', 'ahi', 'ufq', 'tyl', 'mrs', 'jww', 'mlb', 'tnk', 'gqz', 'fio', 'aoi', 'bbl', 'xhc', 'pka', 'wyc', 'vpt', 'pyh', 'zjl'], ['rwf', 'alg', 'wqp', 'ibs', 'ghc', 'zgk', 'uxl', 'krd', 'omc', 'nnc', 'hkx', 'zis', 'rnt', 'mlp', 'eqp', 'boc', 'cdy', 'vre', 'nut', 'fpd'], ['ydx', 'ynk', 'vlw', 'ufe', 'xut', 'lve', 'lfv', 'ack', 'vso', 'pby', 'maq', 'zei', 'tcn', 'qvg', 'mkh', 'muz', 'oir', 'wym', 'aan', 'dla'], ['ocy', 'ycg', 'gzn', 'tip', 'ysb', 'fhp', 'thl', 'fnt', 'bee', 'ozi', 'ypm', 'dxp', 'pyn', 'hwi', 'onz', 'vdf', 'zju', 'zkn', 'vor', 'ixe'], ['glf', 'jga', 'sry', 'nnc', 'pwx', 'gjo', 'ftv', 'sej', 'gqz', 'gnr', 'rtd', 'czu', 'znw', 'kio', 'lwa', 'qjb', 'eru', 'rlu', 'opx', 'zuc'], ['xwa', 'njj', 'whg', 'pok', 'mtz', 'shl', 'ttv', 'oal', 'rdu', 'avl', 'nqn', 'ibj', 'jrn', 'xnq', 'bto', 'hds', 'ocy', 'okt', 'iws', 'wdr'], ['erq', 'jli', 'zls', 'sbr', 'hmk', 'kyd', 'aad', 'ppj', 'rtx', 'dqb', 'qwk', 'xes', 'csj', 'hxo', 'qsj', 'rzo', 'cyq', 'kyn', 'ded', 'dsa'], ['mie', 'gbw', 'cxf', 'iwr', 'fkq', 'rpg', 'paq', 'wkm', 'keb', 'tmy', 'mnh', 'vsq', 'aal', 'bcl', 'ddj', 'gqn', 'jph', 'urs', 'ptp', 'uds'], ['hnq', 'gjg', 'jcx', 'ymf', 'dpt', 'wba', 'jrj', 'cca', 'wic', 'zxc', 'gky', 'yag', 'yqj', 'jfl', 'lim', 'jrv', 'dyw', 'iws', 'abv', 'dpg'], ['tis', 'izd', 'mgj', 'oyf', 'swl', 'ogz', 'dma', 'iwm', 'aan', 'nsw', 'mqh', 'tuv', 'gjo', 'bbd', 'syk', 'xhe', 'hum', 'ijr', 'bcu', 'lyk'], ['xag', 'rzo', 'fzl', 'dyw', 'waa', 'lzc', 'qnn', 'saa', 'iws', 'ltv', 'qjq', 'mam', 'tnl', 'hjv', 'ufe', 'uvl', 'qvl', 'hwx', 'ukh', 'eso'], ['esm', 'vzq', 'cvi', 'uqe', 'lbt', 'stb', 'qof', 'awo', 'xuy', 'tcn', 'zay', 'txq', 'kla', 'akf', 'kna', 'phh', 'cnx', 'cga', 'hit', 'wlb'], ['uku', 'cla', 'epb', 'ndi', 'pkh', 'mly', 'see', 'duy', 'ucq', 'dsa', 'ygm', 'nsw', 'ono', 'jqu', 'ypk', 'whc', 'aep', 'jsa', 'zdk', 'snc'], ['avl', 'ldy', 'dor', 'fjp', 'mtw', 'wjw', 'vpy', 'mwv', 'iqz', 'eyf', 'ydi', 'tgn', 'zcc', 'wnr', 'hxo', 'dsa', 'itc', 'rkm', 'bjy', 'ioy'], ['pcb', 'otv', 'qmo', 'ckl', 'hva', 'qsj', 'xmd', 'had', 'eke', 'suj', 'dsu', 'qqy', 'xhc', 'ovy', 'adv', 'olq', 'mkh', 'rmp', 'mhz', 'piw'], ['sdw', 'rwf', 'lmt', 'cyg', 'cmn', 'zne', 'gjc', 'age', 'oqp', 'ysj', 'wym', 'nui', 'gqt', 'pjc', 'htj', 'tmh', 'mxd', 'flv', 'rwn', 'iyu'], ['urw', 'rzf', 'rrs', 'xwa', 'pcj', 'qmo', 'dgf', 'glf', 'bfq', 'suv', 'mzt', 'fnq', 'dvz', 'vst', 'sgs', 'wyv', 'pyz', 'ofg', 'psw', 'vdz'], ['tmy', 'mtw', 'ubd', 'vqy', 'uel', 'bcu', 'rhv', 'ixh', 'zfc', 'ghc', 'nmp', 'jvn', 'hac', 'rdp', 'yya', 'bap', 'cmf', 'nnc', 'wym', 'pkx'], ['ckw', 'zal', 'pjk', 'htj', 'hmk', 'rjy', 'pgb', 'ixk', 'gyg', 'qva', 'mvo', 'nvw', 'zzd', 'uqe', 'jbc', 'eso', 'pnn', 'nvo', 'xfh', 'nyi'], ['txs', 'ais', 'hrn', 'tob', 'vlp', 'cqw', 'seb', 'ypm', 'odb', 'iwg', 'kca', 'nhd', 'xmr', 'chu', 'tgr', 'wal', 'hpx', 'nyk', 'ctm', 'axv'], ['pwj', 'msa', 'rsv', 'cfq', 'dde', 'mex', 'qra', 'jrv', 'nas', 'egb', 'lpt', 'jbr', 'ymh', 'tyd', 'xhz', 'pea', 'gvn', 'vwk', 'ibi', 'oiq'], ['ibw', 'hpd', 'ykj', 'qrt', 'mns', 'wlb', 'sqy', 'hom', 'emr', 'npg', 'srh', 'guw', 'dfg', 'aqw', 'hsx', 'now', 'uvh', 'gjc', 'pbz', 'tvi'], ['eqe', 'zuc', 'bfa', 'ort', 'kah', 'ceg', 'tex', 'erg', 'qdm', 'tpi', 'zlf', 'jbv', 'vea', 'zts', 'mhi', 'tbm', 'pyn', 'ylh', 'dzk', 'euu'], ['jcs', 'osr', 'kpp', 'hve', 'sug', 'ypo', 'zal', 'apf', 'emr', 'osh', 'uit', 'dsa', 'xxp', 'hum', 'may', 'uel', 'zxh', 'obl', 'pwx', 'fme'], ['avg', 'zgq', 'frn', 'ibg', 'uax', 'fxv', 'urw', 'stb', 'cpr', 'lbw', 'gnm', 'kmv', 'ncd', 'vhg', 'oaa', 'gkl', 'vrz', 'zqs', 'udc', 'esg'], ['uwf', 'pyh', 'rfo', 'pjp', 'nva', 'snc', 'urg', 'ttr', 'vos', 'mom', 'dqb', 'wvw', 'loo', 'nsa', 'ofd', 'ndi', 'sgb', 'qic', 'uzi', 'akq'], ['euu', 'ysc', 'ard', 'sgb', 'lzc', 'lbt', 'eap', 'dcu', 'tch', 'jvu', 'qkf', 'szl', 'tkn', 'iuj', 'qao', 'xvb', 'dqb', 'lex', 'ewv', 'agu'], ['zjv', 'huz', 'hsw', 'nsk', 'cmm', 'bmu', 'yvh', 'gfk', 'lwa', 'lns', 'ttr', 'jvn', 'bwt', 'ddj', 'kyu', 'chy', 'ibh', 'btm', 'dlt', 'svr'], ['xnk', 'qfu', 'zob', 'cqw', 'uuh', 'hjd', 'ici', 'jsh', 'zqd', 'brw', 'vzv', 'mti', 'tny', 'jsc', 'uot', 'vej', 'lex', 'ryb', 'nkd', 'jhu'], ['cyw', 'qjh', 'frl', 'cyf', 'hyh', 'ixi', 'swe', 'gvn', 'tad', 'frn', 'okt', 'msx', 'vns', 'vob', 'jfl', 'ztc', 'alg', 'uzi', 'jbc', 'lqc'], ['ste', 'dvn', 'buk', 'lva', 'srw', 'yyn', 'xbh', 'air', 'xmj', 'gmr', 'ong', 'qna', 'gzn', 'cqq', 'vxd', 'czs', 'ard', 'klj', 'jyg', 'qvz'], ['ptl', 'ozd', 'rai', 'wzb', 'mrv', 'pve', 'nhn', 'tgd', 'pma', 'rhx', 'hzn', 'ouj', 'yya', 'nrs', 'txq', 'qvw', 'gnr', 'dpg', 'oir', 'mqw'], ['icv', 'wic', 'bcl', 'cvj', 'hoo', 'msp', 'obl', 'yfm', 'erp', 'zck', 'akj', 'qjq', 'pqd', 'lns', 'rwt', 'ygv', 'aer', 'tyo', 'rtd', 'bon'], ['vgn', 'qmo', 'wjw', 'gle', 'qpy', 'pka', 'egb', 'bua', 'ppj', 'fmo', 'ubz', 'qql', 'gob', 'lpt', 'rtw', 'odb', 'ucp', 'qkz', 'ftz', 'xyq'], ['btj', 'vei', 'mqh', 'goe', 'unn', 'tpi', 'abu', 'xmd', 'ipb', 'zxi', 'ref', 'ysi', 'ivf', 'dvu', 'npt', 'rdc', 'btu', 'mxd', 'crl', 'qev'], ['onz', 'dlt', 'eyf', 'tmg', 'isy', 'gcs', 'xzz', 'cmf', 'nvh', 'zju', 'ryz', 'qpc', 'nrg', 'ste', 'aad', 'vlp', 'btu', 'tpn', 'vac', 'zvf'], ['swe', 'ojg', 'zwh', 'fth', 'yyv', 'jft', 'paj', 'tpn', 'fxo', 'sir', 'svr', 'thl', 'rzo', 'nui', 'ysj', 'eqd', 'hgu', 'gxx', 'ggb', 'xuy'], ['ize', 'seg', 'bcl', 'mko', 'pzz', 'qym', 'jhu', 'aof', 'wpd', 'ejj', 'hve', 'dyi', 'gxs', 'fmo', 'oqp', 'fim', 'nod', 'aev', 'pae', 'yvh'], ['kkt', 'ndb', 'vux', 'jnb', 'vei', 'eyf', 'vyw', 'lex', 'dlu', 'dim', 'ixu', 'wmz', 'dub', 'rfb', 'ixh', 'rmw', 'ubz', 'wgr', 'mbb', 'ghc'], ['yzg', 'jze', 'ort', 'lqu', 'joi', 'ykj', 'hqn', 'qkl', 'gdk', 'isy', 'qna', 'ela', 'imq', 'wus', 'wvq', 'dpt', 'nnh', 'dlg', 'iki', 'mrs'], ['lve', 'muo', 'hzy', 'jvf', 'tof', 'ksq', 'ytm', 'dcs', 'ais', 'utw', 'skb', 'srw', 'urj', 'wdr', 'bkp', 'wqi', 'qlm', 'dim', 'xtz', 'sqe'], ['cyf', 'oof', 'brw', 'jnb', 'wdv', 'lly', 'jec', 'nzs', 'pbz', 'cyo', 'rvl', 'ezv', 'uon', 'vik', 'nqp', 'cld', 'maq', 'xxl', 'lij', 'txs'], ['yvd', 'hxv', 'vyh', 'nze', 'avm', 'pqv', 'nnh', 'sau', 'djw', 'wbe', 'agv', 'jbc', 'ldg', 'xri', 'rpm', 'pwt', 'cca', 'tgr', 'hju', 'hpc'], ['jrr', 'gvz', 'hmk', 'jor', 'aze', 'ofi', 'mqr', 'uqe', 'hwy', 'iwm', 'jvn', 'tlz', 'rnz', 'bcs', 'xxl', 'cic', 'aeq', 'fxf', 'vdl', 'eqd'], ['myu', 'rcy', 'pwj', 'bgy', 'dgf', 'sqi', 'wmg', 'ntz', 'lnj', 'wkf', 'ymh', 'ntk', 'twu', 'eyo', 'uau', 'ile', 'ukh', 'aim', 'mlt', 'zyf'], ['jky', 'vac', 'ekw', 'hyg', 'mzt', 'ahi', 'ozd', 'rxt', 'ibi', 'ntk', 'opx', 'xfo', 'oyf', 'zzf', 'bpt', 'ypk', 'ein', 'ohd', 'ymk', 'hww'], ['hds', 'pbz', 'iii', 'ipb', 'mxd', 'bat', 'ukh', 'dwx', 'goe', 'mkx', 'drs', 'dde', 'isb', 'fgk', 'suj', 'bwt', 'slt', 'dql', 'xnj', 'jra'], ['mzx', 'vsq', 'wrj', 'vea', 'wkm', 'yvs', 'yir', 'qum', 'sgs', 'qql', 'lyf', 'ygv', 'hfe', 'hvm', 'bkd', 'gch', 'aeq', 'vyh', 'ggh', 'tof'], ['lyu', 'dsf', 'hho', 'fmo', 'ttg', 'uus', 'alu', 'yrv', 'qpp', 'fpl', 'ujm', 'gxc', 'urj', 'vft', 'ctp', 'fxu', 'ais', 'jeu', 'eso', 'lod'], ['qsj', 'ncb', 'liu', 'jfi', 'ckb', 'jsp', 'kxv', 'dsy', 'whg', 'wmg', 'brm', 'fth', 'aze', 'xri', 'avg', 'bfq', 'dzj', 'tgn', 'zna', 'iki'], ['zwm', 'zuc', 'hac', 'kgp', 'dgn', 'hmk', 'mgk', 'hhf', 'glf', 'tse', 'aep', 'kej', 'nvo', 'zry', 'fuy', 'ols', 'cya', 'ptl', 'thl', 'fhu'], ['ref', 'qjb', 'ere', 'xof', 'gkh', 'ywd', 'toh', 'wlb', 'iur', 'luh', 'nxi', 'jub', 'cya', 'jxz', 'gsi', 'efl', 'yuz', 'tpj', 'fzi', 'lmt'], ['buk', 'zom', 'euu', 'box', 'dql', 'ewj', 'vub', 'ajn', 'qug', 'nja', 'mko', 'dcs', 'qvl', 'him', 'oxn', 'opv', 'xoe', 'xph', 'vgw', 'tes'], ['qic', 'cpc', 'mrs', 'ihr', 'aep', 'xmd', 'nod', 'jex', 'iyu', 'adn', 'ppj', 'sir', 'rcl', 'hak', 'rsv', 'gjn', 'swx', 'ufe', 'lva', 'zlm'], ['rrs', 'odi', 'tbb', 'kca', 'iiu', 'qic', 'kai', 'pyz', 'iqg', 'pju', 'cla', 'evj', 'czu', 'bgd', 'ocy', 'lqv', 'bqh', 'faq', 'uvl', 'dgl'], ['wiv', 'wdv', 'gch', 'mfh', 'whw', 'trh', 'zux', 'pwt', 'bto', 'sim', 'tzt', 'nso', 'wtb', 'jbv', 'zfz', 'bwt', 'mie', 'uxl', 'ujz', 'mex'], ['alu', 'idm', 'rsv', 'xgd', 'pby', 'ycg', 'wck', 'dlt', 'kna', 'bbl', 'tzt', 'qrt', 'aan', 'mzx', 'nmp', 'wpc', 'jce', 'toj', 'nls', 'sos'], ['cok', 'mga', 'eki', 'gqt', 'mvw', 'hpe', 'ydc', 'alm', 'aad', 'upm', 'kio', 'ysm', 'vrw', 'xii', 'cla', 'iqz', 'nwn', 'ojd', 'kgt', 'iki'], ['orh', 'jif', 'axz', 'xua', 'tbm', 'esg', 'dbz', 'axv', 'jvf', 'swl', 'lwa', 'cmt', 'cvi', 'kfd', 'zyr', 'bsy', 'hjd', 'abz', 'sos', 'vwq'], ['esq', 'chu', 'gar', 'rwf', 'dcn', 'dzk', 'xoj', 'yfa', 'vsq', 'ezv', 'hhl', 'ldg', 'gfw', 'ybv', 'wba', 'tad', 'xft', 'bkd', 'mif', 'enx'], ['qev', 'upo', 'bap', 'hvm', 'gab', 'vok', 'xft', 'wou', 'ese', 'rrs', 'jsa', 'upi', 'yqb', 'cxw', 'iqj', 'ysj', 'zls', 'ruo', 'efl', 'msp'], ['zjl', 'ojp', 'paq', 'gsi', 'zyw', 'afz', 'fcp', 'vlw', 'urw', 'uhg', 'srw', 'clb', 'tmg', 'tkq', 'alu', 'gpy', 'xph', 'syj', 'drd', 'vrr'], ['ein', 'udc', 'ecr', 'qfj', 'vjf', 'tbb', 'pzz', 'xqn', 'yns', 'hds', 'szb', 'pnx', 'zay', 'hng', 'tgs', 'avm', 'swe', 'tob', 'unj', 'lyb'], ['rbo', 'bvj', 'ptl', 'sqe', 'jhz', 'kgo', 'wjg', 'jkt', 'vsn', 'dgg', 'ken', 'rhj', 'hbd', 'yhf', 'nlv', 'swx', 'yfm', 'ydx', 'bgy', 'yuz'], ['kgt', 'adh', 'jif', 'znw', 'xnq', 'sdw', 'pqd', 'ikb', 'auw', 'dxp', 'zuc', 'hkx', 'ack', 'maq', 'agv', 'afx', 'ubt', 'yau', 'lwa', 'bpt'], ['dub', 'zis', 'djw', 'hey', 'pfr', 'mut', 'evr', 'nax', 'btj', 'sop', 'nxi', 'rty', 'jge', 'vrr', 'mwv', 'qpp', 'ord', 'lfv', 'pjc', 'tch'], ['bto', 'rgm', 'hoo', 'btu', 'yag', 'kah', 'pns', 'pyn', 'cga', 'oom', 'vst', 'flv', 'xzz', 'maq', 'qxg', 'aan', 'urs', 'dzc', 'wbe', 'brl'], ['yfa', 'alu', 'kzb', 'lwr', 'qow', 'tof', 'xdt', 'aim', 'qvg', 'oyf', 'tda', 'ksl', 'cqq', 'xzz', 'tmg', 'mgp', 'jbm', 'lag', 'ols', 'pzc']])"
      ]
     },
     "execution_count": 25,
     "metadata": {},
     "output_type": "execute_result"
    }
   ],
   "source": [
    "val_right"
   ]
  },
  {
   "cell_type": "code",
   "execution_count": null,
   "metadata": {},
   "outputs": [
    {
     "name": "stdout",
     "output_type": "stream",
     "text": [
      "Left feature shape: (220,)\n",
      "Right feature shape: (520,)\n"
     ]
    },
    {
     "ename": "ValueError",
     "evalue": "operands could not be broadcast together with shapes (220,) (520,) ",
     "output_type": "error",
     "traceback": [
      "\u001b[0;31m---------------------------------------------------------------------------\u001b[0m",
      "\u001b[0;31mValueError\u001b[0m                                Traceback (most recent call last)",
      "\u001b[1;32m/Users/lujiema/Documents/GitHub/CVFinalProject/code.ipynb Cell 10\u001b[0m line \u001b[0;36m6\n\u001b[1;32m     <a href='vscode-notebook-cell:/Users/lujiema/Documents/GitHub/CVFinalProject/code.ipynb#X35sZmlsZQ%3D%3D?line=58'>59</a>\u001b[0m     left_path \u001b[39m=\u001b[39m \u001b[39mf\u001b[39m\u001b[39m'\u001b[39m\u001b[39mfeat/\u001b[39m\u001b[39m{\u001b[39;00mmodel\u001b[39m}\u001b[39;00m\u001b[39m/\u001b[39m\u001b[39m{\u001b[39;00mmodel\u001b[39m}\u001b[39;00m\u001b[39m_train_left_features.pkl\u001b[39m\u001b[39m'\u001b[39m\n\u001b[1;32m     <a href='vscode-notebook-cell:/Users/lujiema/Documents/GitHub/CVFinalProject/code.ipynb#X35sZmlsZQ%3D%3D?line=59'>60</a>\u001b[0m     right_path \u001b[39m=\u001b[39m \u001b[39mf\u001b[39m\u001b[39m'\u001b[39m\u001b[39mfeat/\u001b[39m\u001b[39m{\u001b[39;00mmodel\u001b[39m}\u001b[39;00m\u001b[39m/\u001b[39m\u001b[39m{\u001b[39;00mmodel\u001b[39m}\u001b[39;00m\u001b[39m_train_right_features.pkl\u001b[39m\u001b[39m'\u001b[39m\n\u001b[0;32m---> <a href='vscode-notebook-cell:/Users/lujiema/Documents/GitHub/CVFinalProject/code.ipynb#X35sZmlsZQ%3D%3D?line=60'>61</a>\u001b[0m     l2_acc, cosine_acc \u001b[39m=\u001b[39m compute_top2_accuracy_for_model(left_path, right_path, val_left, val_right)\n\u001b[1;32m     <a href='vscode-notebook-cell:/Users/lujiema/Documents/GitHub/CVFinalProject/code.ipynb#X35sZmlsZQ%3D%3D?line=61'>62</a>\u001b[0m     results[model] \u001b[39m=\u001b[39m {\n\u001b[1;32m     <a href='vscode-notebook-cell:/Users/lujiema/Documents/GitHub/CVFinalProject/code.ipynb#X35sZmlsZQ%3D%3D?line=62'>63</a>\u001b[0m         \u001b[39m'\u001b[39m\u001b[39mL2\u001b[39m\u001b[39m'\u001b[39m: l2_acc,\n\u001b[1;32m     <a href='vscode-notebook-cell:/Users/lujiema/Documents/GitHub/CVFinalProject/code.ipynb#X35sZmlsZQ%3D%3D?line=63'>64</a>\u001b[0m         \u001b[39m'\u001b[39m\u001b[39mCosine\u001b[39m\u001b[39m'\u001b[39m: cosine_acc\n\u001b[1;32m     <a href='vscode-notebook-cell:/Users/lujiema/Documents/GitHub/CVFinalProject/code.ipynb#X35sZmlsZQ%3D%3D?line=64'>65</a>\u001b[0m     }\n\u001b[1;32m     <a href='vscode-notebook-cell:/Users/lujiema/Documents/GitHub/CVFinalProject/code.ipynb#X35sZmlsZQ%3D%3D?line=66'>67</a>\u001b[0m results\n",
      "\u001b[1;32m/Users/lujiema/Documents/GitHub/CVFinalProject/code.ipynb Cell 10\u001b[0m line \u001b[0;36m3\n\u001b[1;32m     <a href='vscode-notebook-cell:/Users/lujiema/Documents/GitHub/CVFinalProject/code.ipynb#X35sZmlsZQ%3D%3D?line=34'>35</a>\u001b[0m top2_acc_count_cosine \u001b[39m=\u001b[39m \u001b[39m0\u001b[39m\n\u001b[1;32m     <a href='vscode-notebook-cell:/Users/lujiema/Documents/GitHub/CVFinalProject/code.ipynb#X35sZmlsZQ%3D%3D?line=36'>37</a>\u001b[0m \u001b[39mfor\u001b[39;00m i, left_feature \u001b[39min\u001b[39;00m \u001b[39menumerate\u001b[39m(val_left_features):\n\u001b[0;32m---> <a href='vscode-notebook-cell:/Users/lujiema/Documents/GitHub/CVFinalProject/code.ipynb#X35sZmlsZQ%3D%3D?line=37'>38</a>\u001b[0m     indices_l2 \u001b[39m=\u001b[39m find_most_similar_using_l2(left_feature, val_right_feat_list[i])\n\u001b[1;32m     <a href='vscode-notebook-cell:/Users/lujiema/Documents/GitHub/CVFinalProject/code.ipynb#X35sZmlsZQ%3D%3D?line=38'>39</a>\u001b[0m     indices_cosine \u001b[39m=\u001b[39m find_most_similar_using_cosine(left_feature, val_right_feat_list[i])\n\u001b[1;32m     <a href='vscode-notebook-cell:/Users/lujiema/Documents/GitHub/CVFinalProject/code.ipynb#X35sZmlsZQ%3D%3D?line=40'>41</a>\u001b[0m     \u001b[39m# Check if the correct file (the first one in val_right) is in the top 2 for L2 distance\u001b[39;00m\n",
      "\u001b[1;32m/Users/lujiema/Documents/GitHub/CVFinalProject/code.ipynb Cell 10\u001b[0m line \u001b[0;36m1\n\u001b[1;32m      <a href='vscode-notebook-cell:/Users/lujiema/Documents/GitHub/CVFinalProject/code.ipynb#X35sZmlsZQ%3D%3D?line=6'>7</a>\u001b[0m         \u001b[39mprint\u001b[39m(\u001b[39mf\u001b[39m\u001b[39m\"\u001b[39m\u001b[39mRight feature shape: \u001b[39m\u001b[39m{\u001b[39;00mright_feat\u001b[39m.\u001b[39mshape\u001b[39m}\u001b[39;00m\u001b[39m\"\u001b[39m)\n\u001b[1;32m      <a href='vscode-notebook-cell:/Users/lujiema/Documents/GitHub/CVFinalProject/code.ipynb#X35sZmlsZQ%3D%3D?line=7'>8</a>\u001b[0m         \u001b[39mbreak\u001b[39;00m\n\u001b[0;32m---> <a href='vscode-notebook-cell:/Users/lujiema/Documents/GitHub/CVFinalProject/code.ipynb#X35sZmlsZQ%3D%3D?line=9'>10</a>\u001b[0m distances \u001b[39m=\u001b[39m [distance\u001b[39m.\u001b[39meuclidean(left_feature, right_feat) \u001b[39mfor\u001b[39;00m right_feat \u001b[39min\u001b[39;00m right_features]\n\u001b[1;32m     <a href='vscode-notebook-cell:/Users/lujiema/Documents/GitHub/CVFinalProject/code.ipynb#X35sZmlsZQ%3D%3D?line=10'>11</a>\u001b[0m \u001b[39mreturn\u001b[39;00m np\u001b[39m.\u001b[39margsort(distances)\n",
      "\u001b[1;32m/Users/lujiema/Documents/GitHub/CVFinalProject/code.ipynb Cell 10\u001b[0m line \u001b[0;36m1\n\u001b[1;32m      <a href='vscode-notebook-cell:/Users/lujiema/Documents/GitHub/CVFinalProject/code.ipynb#X35sZmlsZQ%3D%3D?line=6'>7</a>\u001b[0m         \u001b[39mprint\u001b[39m(\u001b[39mf\u001b[39m\u001b[39m\"\u001b[39m\u001b[39mRight feature shape: \u001b[39m\u001b[39m{\u001b[39;00mright_feat\u001b[39m.\u001b[39mshape\u001b[39m}\u001b[39;00m\u001b[39m\"\u001b[39m)\n\u001b[1;32m      <a href='vscode-notebook-cell:/Users/lujiema/Documents/GitHub/CVFinalProject/code.ipynb#X35sZmlsZQ%3D%3D?line=7'>8</a>\u001b[0m         \u001b[39mbreak\u001b[39;00m\n\u001b[0;32m---> <a href='vscode-notebook-cell:/Users/lujiema/Documents/GitHub/CVFinalProject/code.ipynb#X35sZmlsZQ%3D%3D?line=9'>10</a>\u001b[0m distances \u001b[39m=\u001b[39m [distance\u001b[39m.\u001b[39meuclidean(left_feature, right_feat) \u001b[39mfor\u001b[39;00m right_feat \u001b[39min\u001b[39;00m right_features]\n\u001b[1;32m     <a href='vscode-notebook-cell:/Users/lujiema/Documents/GitHub/CVFinalProject/code.ipynb#X35sZmlsZQ%3D%3D?line=10'>11</a>\u001b[0m \u001b[39mreturn\u001b[39;00m np\u001b[39m.\u001b[39margsort(distances)\n",
      "File \u001b[0;32m~/anaconda3/lib/python3.11/site-packages/scipy/spatial/distance.py:520\u001b[0m, in \u001b[0;36meuclidean\u001b[0;34m(u, v, w)\u001b[0m\n\u001b[1;32m    484\u001b[0m \u001b[39mdef\u001b[39;00m \u001b[39meuclidean\u001b[39m(u, v, w\u001b[39m=\u001b[39m\u001b[39mNone\u001b[39;00m):\n\u001b[1;32m    485\u001b[0m \u001b[39m    \u001b[39m\u001b[39m\"\"\"\u001b[39;00m\n\u001b[1;32m    486\u001b[0m \u001b[39m    Computes the Euclidean distance between two 1-D arrays.\u001b[39;00m\n\u001b[1;32m    487\u001b[0m \n\u001b[0;32m   (...)\u001b[0m\n\u001b[1;32m    518\u001b[0m \n\u001b[1;32m    519\u001b[0m \u001b[39m    \"\"\"\u001b[39;00m\n\u001b[0;32m--> 520\u001b[0m     \u001b[39mreturn\u001b[39;00m minkowski(u, v, p\u001b[39m=\u001b[39m\u001b[39m2\u001b[39m, w\u001b[39m=\u001b[39mw)\n",
      "File \u001b[0;32m~/anaconda3/lib/python3.11/site-packages/scipy/spatial/distance.py:467\u001b[0m, in \u001b[0;36mminkowski\u001b[0;34m(u, v, p, w)\u001b[0m\n\u001b[1;32m    465\u001b[0m \u001b[39mif\u001b[39;00m p \u001b[39m<\u001b[39m\u001b[39m=\u001b[39m \u001b[39m0\u001b[39m:\n\u001b[1;32m    466\u001b[0m     \u001b[39mraise\u001b[39;00m \u001b[39mValueError\u001b[39;00m(\u001b[39m\"\u001b[39m\u001b[39mp must be greater than 0\u001b[39m\u001b[39m\"\u001b[39m)\n\u001b[0;32m--> 467\u001b[0m u_v \u001b[39m=\u001b[39m u \u001b[39m-\u001b[39m v\n\u001b[1;32m    468\u001b[0m \u001b[39mif\u001b[39;00m w \u001b[39mis\u001b[39;00m \u001b[39mnot\u001b[39;00m \u001b[39mNone\u001b[39;00m:\n\u001b[1;32m    469\u001b[0m     w \u001b[39m=\u001b[39m _validate_weights(w)\n",
      "\u001b[0;31mValueError\u001b[0m: operands could not be broadcast together with shapes (220,) (520,) "
     ]
    }
   ],
   "source": [
    "from sklearn.decomposition import PCA\n",
    "\n",
    "def apply_pca_to_features(features, n_components=0.95):\n",
    "    \"\"\"\n",
    "    Apply PCA to reduce the dimensionality of the features.\n",
    "    n_components: desired number of components or variance ratio to keep.\n",
    "    \"\"\"\n",
    "    pca = PCA(n_components=n_components)\n",
    "    reduced_features = pca.fit_transform(features)\n",
    "    return reduced_features, pca\n",
    "\n",
    "# Example usage in your function:\n",
    "\n",
    "def compute_top2_accuracy_for_model(left_feat_path, right_feat_path, val_left, val_right):\n",
    "    left_feat = load_data_from_pkl(left_feat_path)\n",
    "    right_feat = load_data_from_pkl(right_feat_path)\n",
    "\n",
    "    # Extract features for the validation set\n",
    "    all_left_features = [left_feat[filename] for filename in val_left]\n",
    "    all_right_features = [feat for sublist in [[right_feat[f] for f in filenames] for filenames in val_right] for feat in sublist]\n",
    "\n",
    "    # Apply PCA for left features\n",
    "    reduced_left_features, pca_model_left = apply_pca_to_features(all_left_features)\n",
    "\n",
    "    # Apply PCA for right features\n",
    "    reduced_right_features, pca_model_right = apply_pca_to_features(all_right_features)\n",
    "    \n",
    "    val_right = list(val_right)\n",
    "\n",
    "    val_left_features = reduced_left_features\n",
    "    val_right_feat_list = [reduced_right_features[i:i+len(val_right[0])] for i in range(0, len(reduced_right_features), len(val_right[0]))]\n",
    "\n",
    "\n",
    "    top2_acc_count_l2 = 0\n",
    "    top2_acc_count_cosine = 0\n",
    "\n",
    "    for i, left_feature in enumerate(val_left_features):\n",
    "        indices_l2 = find_most_similar_using_l2(left_feature, val_right_feat_list[i])\n",
    "        indices_cosine = find_most_similar_using_cosine(left_feature, val_right_feat_list[i])\n",
    "\n",
    "        # Check if the correct file (the first one in val_right) is in the top 2 for L2 distance\n",
    "        if 0 in indices_l2[:2]:\n",
    "            top2_acc_count_l2 += 1\n",
    "\n",
    "        # Check if the correct file (the first one in val_right) is in the top 2 for cosine distance\n",
    "        if 0 in indices_cosine[:2]:\n",
    "            top2_acc_count_cosine += 1\n",
    "\n",
    "    top2_acc_l2 = top2_acc_count_l2 / len(val_left)\n",
    "    top2_acc_cosine = top2_acc_count_cosine / len(val_left)\n",
    "\n",
    "    return top2_acc_l2, top2_acc_cosine\n",
    "\n",
    "# Compute Top-2 accuracy for different models\n",
    "models = ['resnet50', 'resnet101', 'densenet201', 'vgg16']\n",
    "results = {}\n",
    "\n",
    "for model in models:\n",
    "    left_path = f'feat/{model}/{model}_train_left_features.pkl'\n",
    "    right_path = f'feat/{model}/{model}_train_right_features.pkl'\n",
    "    l2_acc, cosine_acc = compute_top2_accuracy_for_model(left_path, right_path, val_left, val_right)\n",
    "    results[model] = {\n",
    "        'L2': l2_acc,\n",
    "        'Cosine': cosine_acc\n",
    "    }\n",
    "\n",
    "results\n",
    "\n"
   ]
  },
  {
   "cell_type": "code",
   "execution_count": null,
   "metadata": {},
   "outputs": [
    {
     "data": {
      "image/png": "[encoded data removed]",
      "text/plain": [
       "<Figure size 640x480 with 1 Axes>"
      ]
     },
     "metadata": {},
     "output_type": "display_data"
    }
   ],
   "source": [
    "# Extracting data for plotting\n",
    "models = list(results.keys())\n",
    "l2_values = [results[model]['L2'] for model in models]\n",
    "cosine_values = [results[model]['Cosine'] for model in models]\n",
    "\n",
    "# Plotting\n",
    "bar_width = 0.35\n",
    "index = range(len(models))\n",
    "\n",
    "fig, ax = plt.subplots()\n",
    "bar1 = ax.bar(index, l2_values, bar_width, label='L2', color='b')\n",
    "bar2 = ax.bar([i + bar_width for i in index], cosine_values, bar_width, label='Cosine', color='r')\n",
    "\n",
    "# Labelling, titling, and formatting\n",
    "ax.set_xlabel('Model')\n",
    "ax.set_ylabel('Accuracy')\n",
    "ax.set_title('Top-2 Accuracy by Model and Distance Metric')\n",
    "ax.set_xticks([i + bar_width / 2 for i in index])\n",
    "ax.set_xticklabels(models)\n",
    "ax.legend()\n",
    "\n",
    "plt.tight_layout()\n",
    "plt.show()"
   ]
  },
  {
   "cell_type": "markdown",
   "metadata": {},
   "source": [
    "# Store the result to a csv file."
   ]
  },
  {
   "cell_type": "code",
   "execution_count": null,
   "metadata": {},
   "outputs": [
    {
     "name": "stdout",
     "output_type": "stream",
     "text": [
      "Confidences saved to confidences.csv\n"
     ]
    }
   ],
   "source": [
    "import csv\n",
    "\n",
    "def compute_confidences_for_test_model_using_cosine(left_feat_path, right_feat_path, test_left, test_right):\n",
    "    # Load features\n",
    "    left_feat = load_data_from_pkl(left_feat_path)\n",
    "    right_feat = load_data_from_pkl(right_feat_path)\n",
    "\n",
    "    # Extract features for test set\n",
    "    test_left_features = [left_feat[filename] for filename in test_left]\n",
    "    test_right_feat_list = [[right_feat[f] for f in filenames] for filenames in test_right]\n",
    "\n",
    "    confidences = []\n",
    "\n",
    "    for i, left_feature in enumerate(test_left_features):\n",
    "        distances = [distance.cosine(left_feature, right_feature) for right_feature in test_right_feat_list[i]]\n",
    "        confidences_row = [1 - dist/2 for dist in distances]  # Convert distance to confidence\n",
    "        confidences.append(confidences_row)\n",
    "\n",
    "    return confidences\n",
    "\n",
    "# Compute confidences for ResNet50 on the test set using cosine distance\n",
    "model = 'resnet50'\n",
    "left_path = f'feat_test/{model}/{model}_test_left_features.pkl'\n",
    "right_path = f'feat_test/{model}/{model}_test_right_features.pkl'\n",
    "confidences = compute_confidences_for_test_model_using_cosine(left_path, right_path, test_left, test_right)\n",
    "\n",
    "# Save confidences to CSV\n",
    "# csv_output_path = 'confidences.csv'\n",
    "# with open(csv_output_path, 'w', newline='') as csvfile:\n",
    "#     csvwriter = csv.writer(csvfile)\n",
    "#     # Write header\n",
    "#     csvwriter.writerow(['left'] + [f'c{i}' for i in range(20)])\n",
    "#     # Write data rows\n",
    "#     for i, conf_row in enumerate(confidences):\n",
    "#         csvwriter.writerow([test_left[i]] + conf_row)\n",
    "\n",
    "# print(f\"Confidences saved to {csv_output_path}\")\n"
   ]
  },
  {
   "cell_type": "code",
   "execution_count": null,
   "metadata": {},
   "outputs": [],
   "source": []
  },
  {
   "cell_type": "markdown",
   "metadata": {},
   "source": [
    "# Train"
   ]
  },
  {
   "cell_type": "markdown",
   "metadata": {},
   "source": [
    "## Format the data"
   ]
  },
  {
   "cell_type": "code",
   "execution_count": null,
   "metadata": {},
   "outputs": [],
   "source": [
    "def format_and_save_data(train_data, val_data, train_output_path, val_output_path):\n",
    "    # Format validation data\n",
    "    formatted_val_data = []\n",
    "    for left_img, right_images in val_data.items():\n",
    "        for idx, right_img in enumerate(right_images):\n",
    "            label = 1 if idx == 0 else 0  # c0 is the ground truth\n",
    "            formatted_val_data.append((left_img, right_img, label))\n",
    "\n",
    "    # Format training data\n",
    "    formatted_train_data = []\n",
    "\n",
    "    # Add matching pairs to training data\n",
    "    for left_img, right_img in train_data.items():\n",
    "        formatted_train_data.append((left_img, right_img, 1))\n",
    "\n",
    "    # Generate non-matching pairs\n",
    "    num_negative_samples = len(train_data)\n",
    "    left_images = list(train_data.keys())\n",
    "    right_images = list(train_data.values())\n",
    "\n",
    "    for _ in range(num_negative_samples):\n",
    "        left_img = random.choice(left_images)\n",
    "        right_img = random.choice(right_images)\n",
    "        \n",
    "        # Ensure it's a non-matching pair\n",
    "        while train_data[left_img] == right_img:\n",
    "            left_img = random.choice(left_images)\n",
    "            right_img = random.choice(right_images)\n",
    "\n",
    "        formatted_train_data.append((left_img, right_img, 0))\n",
    "    \n",
    "    # Save formatted data to pkl files\n",
    "    with open(train_output_path, 'wb') as f:\n",
    "        pickle.dump(formatted_train_data, f)\n",
    "    \n",
    "    with open(val_output_path, 'wb') as f:\n",
    "        pickle.dump(formatted_val_data, f)\n",
    "\n",
    "    print(f\"Training data saved to {train_output_path}\")\n",
    "    print(f\"Validation data saved to {val_output_path}\")"
   ]
  },
  {
   "cell_type": "code",
   "execution_count": null,
   "metadata": {},
   "outputs": [
    {
     "name": "stdout",
     "output_type": "stream",
     "text": [
      "Training data saved to train_formated_data.pkl\n",
      "Validation data saved to val_formated_data.pkl\n"
     ]
    }
   ],
   "source": [
    "# format_and_save_data(train_set, val_set, 'train_formated_data.pkl', 'val_formated_data.pkl')"
   ]
  },
  {
   "cell_type": "code",
   "execution_count": null,
   "metadata": {},
   "outputs": [],
   "source": [
    "train_data = load_data_from_pkl('train_formated_data.pkl')\n",
    "val_data = load_data_from_pkl('val_formated_data.pkl')"
   ]
  },
  {
   "cell_type": "code",
   "execution_count": null,
   "metadata": {},
   "outputs": [
    {
     "name": "stderr",
     "output_type": "stream",
     "text": [
      "WARNING:absl:At this time, the v2.11+ optimizer `tf.keras.optimizers.RMSprop` runs slowly on M1/M2 Macs, please use the legacy Keras optimizer instead, located at `tf.keras.optimizers.legacy.RMSprop`.\n",
      "WARNING:absl:There is a known slowdown when using v2.11+ Keras optimizers on M1/M2 Macs. Falling back to the legacy Keras optimizer, i.e., `tf.keras.optimizers.legacy.RMSprop`.\n"
     ]
    }
   ],
   "source": [
    "from tensorflow.keras.models import Model\n",
    "from tensorflow.keras.layers import Input, Flatten, Dense, Dropout, Lambda\n",
    "from tensorflow.keras.optimizers import RMSprop\n",
    "from tensorflow.keras.datasets import fashion_mnist\n",
    "from tensorflow.python.keras.utils.vis_utils import plot_model\n",
    "from tensorflow.keras import backend as K\n",
    "\n",
    "# Define the base model (could be any pre-trained model like ResNet50, VGG16, etc.)\n",
    "def create_base_network(input_shape):\n",
    "    input = Input(shape=input_shape)\n",
    "    x = Flatten()(input)\n",
    "    x = Dense(128, activation='relu')(x)\n",
    "    x = Dropout(0.1)(x)\n",
    "    x = Dense(128, activation='relu')(x)\n",
    "    x = Dropout(0.1)(x)\n",
    "    x = Dense(128, activation='relu')(x)\n",
    "    return Model(inputs=input, outputs=x)\n",
    "\n",
    "# Compute Euclidean distance\n",
    "def euclidean_distance(vects):\n",
    "    x, y = vects\n",
    "    sum_square = K.sum(K.square(x - y), axis=1, keepdims=True)\n",
    "    return K.sqrt(K.maximum(sum_square, K.epsilon()))\n",
    "\n",
    "input_shape = (224, 224, 3)\n",
    "\n",
    "# Define the Siamese Network\n",
    "base_network = create_base_network(input_shape)\n",
    "\n",
    "input_a = Input(shape=input_shape)\n",
    "input_b = Input(shape=input_shape)\n",
    "\n",
    "processed_a = base_network(input_a)\n",
    "processed_b = base_network(input_b)\n",
    "\n",
    "distance = Lambda(euclidean_distance, output_shape=(1,))([processed_a, processed_b])\n",
    "\n",
    "model = Model([input_a, input_b], distance)\n",
    "\n",
    "# Define contrastive loss\n",
    "def contrastive_loss(y_true, y_pred):\n",
    "    margin = 1\n",
    "    square_pred = K.square(y_pred)\n",
    "    margin_square = K.square(K.maximum(margin - y_pred, 0))\n",
    "    return K.mean(y_true * square_pred + (1 - y_true) * margin_square)\n",
    "\n",
    "# Compile the model\n",
    "model.compile(optimizer=RMSprop(), loss=contrastive_loss)\n",
    "\n",
    "# Train the model with your data\n",
    "# model.fit([train_left_images, train_right_images], labels, epochs=20, batch_size=128)\n",
    "\n",
    "# For testing, you can use the base_network to extract features for 'left' images and all potential 'right' matches, then compute distances and choose the smallest one.\n"
   ]
  },
  {
   "cell_type": "code",
   "execution_count": null,
   "metadata": {},
   "outputs": [
    {
     "name": "stderr",
     "output_type": "stream",
     "text": [
      "/var/folders/0z/r_hc_7gs23b9rsb4_jm7750c0000gn/T/ipykernel_6628/384931968.py:16: DeprecationWarning: Starting with ImageIO v3 the behavior of this function will switch to that of iio.v3.imread. To keep the current behavior (and make this warning disappear) use `import imageio.v2 as imageio` or call `imageio.v2.imread` directly.\n",
      "  train_left_images = [imageio.imread(img_path) for img_path in train_left_images]\n",
      "/var/folders/0z/r_hc_7gs23b9rsb4_jm7750c0000gn/T/ipykernel_6628/384931968.py:17: DeprecationWarning: Starting with ImageIO v3 the behavior of this function will switch to that of iio.v3.imread. To keep the current behavior (and make this warning disappear) use `import imageio.v2 as imageio` or call `imageio.v2.imread` directly.\n",
      "  train_right_images = [imageio.imread(img_path) for img_path in train_right_images]\n"
     ]
    }
   ],
   "source": [
    "train_left_images = [train_data[i][0] for i in range(len(train_data))]\n",
    "\n",
    "base_path = 'COMP90086_2023_TLLdataset/train/{}/{}.jpg'\n",
    "\n",
    "for _ in range(len(train_left_images)):\n",
    "    train_left_images[_] = base_path.format('left', train_left_images[_])\n",
    "    \n",
    "train_right_images = [train_data[i][1] for i in range(len(train_data))]\n",
    "\n",
    "for _ in range(len(train_right_images)):\n",
    "    train_right_images[_] = base_path.format('right', train_right_images[_])\n",
    "\n",
    "labels = [train_data[i][2] for i in range(len(train_data))]\n",
    "labels = np.array(labels)\n",
    "\n",
    "train_left_images = [imageio.imread(img_path) for img_path in train_left_images]\n",
    "train_right_images = [imageio.imread(img_path) for img_path in train_right_images]"
   ]
  },
  {
   "cell_type": "code",
   "execution_count": null,
   "metadata": {},
   "outputs": [
    {
     "name": "stderr",
     "output_type": "stream",
     "text": [
      "/var/folders/0z/r_hc_7gs23b9rsb4_jm7750c0000gn/T/ipykernel_6628/3395199880.py:17: DeprecationWarning: Starting with ImageIO v3 the behavior of this function will switch to that of iio.v3.imread. To keep the current behavior (and make this warning disappear) use `import imageio.v2 as imageio` or call `imageio.v2.imread` directly.\n",
      "  val_left_images = [imageio.imread(img_path) for img_path in val_left_images]\n",
      "/var/folders/0z/r_hc_7gs23b9rsb4_jm7750c0000gn/T/ipykernel_6628/3395199880.py:18: DeprecationWarning: Starting with ImageIO v3 the behavior of this function will switch to that of iio.v3.imread. To keep the current behavior (and make this warning disappear) use `import imageio.v2 as imageio` or call `imageio.v2.imread` directly.\n",
      "  val_right_images = [imageio.imread(img_path) for img_path in val_right_images]\n"
     ]
    }
   ],
   "source": [
    "val_left_images = [val_data[i][0] for i in range(len(val_data))]\n",
    "\n",
    "base_path = 'COMP90086_2023_TLLdataset/train/{}/{}.jpg'\n",
    "\n",
    "for _ in range(len(val_left_images)):\n",
    "    val_left_images[_] = base_path.format('left', val_left_images[_])\n",
    "    \n",
    "val_right_images = [val_data[i][1] for i in range(len(val_data))]\n",
    "\n",
    "for _ in range(len(val_right_images)):\n",
    "    val_right_images[_] = base_path.format('right', val_right_images[_])\n",
    "    \n",
    "val_labels = [val_data[i][2] for i in range(len(val_data))]\n",
    "val_labels = np.array(val_labels)\n",
    "val_labels = val_labels.astype('float32')\n",
    "\n",
    "val_left_images = [imageio.imread(img_path) for img_path in val_left_images]\n",
    "val_right_images = [imageio.imread(img_path) for img_path in val_right_images]\n",
    "\n",
    "# 如果需要，调整图像大小\n",
    "val_left_images = [cv2.resize(img, (224, 224)) for img in val_left_images]\n",
    "val_right_images = [cv2.resize(img, (224, 224)) for img in val_right_images]"
   ]
  },
  {
   "cell_type": "code",
   "execution_count": null,
   "metadata": {},
   "outputs": [
    {
     "name": "stdout",
     "output_type": "stream",
     "text": [
      "(3200, 224, 224, 3)\n",
      "(3200, 224, 224, 3)\n",
      "(3200,)\n"
     ]
    }
   ],
   "source": [
    "train_left_images = [cv2.resize(img, (224, 224)) for img in train_left_images]\n",
    "train_right_images = [cv2.resize(img, (224, 224)) for img in train_right_images]\n",
    "\n",
    "print(np.array(train_left_images).shape)\n",
    "print(np.array(train_right_images).shape)\n",
    "print(np.array(labels).shape)\n",
    "\n",
    "train_left_images = np.array(train_left_images)\n",
    "train_right_images = np.array(train_right_images)\n",
    "labels = labels.astype('float32')\n",
    "labels = np.array(labels)"
   ]
  },
  {
   "cell_type": "code",
   "execution_count": null,
   "metadata": {},
   "outputs": [
    {
     "name": "stdout",
     "output_type": "stream",
     "text": [
      "Epoch 1/20\n",
      "25/25 [==============================] - 2s 80ms/step - loss: 102624608.0000\n",
      "Epoch 2/20\n",
      "25/25 [==============================] - 2s 80ms/step - loss: 29405.5254\n",
      "Epoch 3/20\n",
      "25/25 [==============================] - 2s 77ms/step - loss: 4675.7505\n",
      "Epoch 4/20\n",
      "25/25 [==============================] - 2s 76ms/step - loss: 933.4783\n",
      "Epoch 5/20\n",
      "25/25 [==============================] - 2s 77ms/step - loss: 0.6680\n",
      "Epoch 6/20\n",
      "25/25 [==============================] - 2s 77ms/step - loss: 7.3346\n",
      "Epoch 7/20\n",
      "25/25 [==============================] - 2s 77ms/step - loss: 0.4997\n",
      "Epoch 8/20\n",
      "25/25 [==============================] - 2s 78ms/step - loss: 0.4997\n",
      "Epoch 9/20\n",
      "25/25 [==============================] - 2s 77ms/step - loss: 0.4997\n",
      "Epoch 10/20\n",
      "25/25 [==============================] - 2s 77ms/step - loss: 0.4997\n",
      "Epoch 11/20\n",
      "25/25 [==============================] - 2s 81ms/step - loss: 0.4986\n",
      "Epoch 12/20\n",
      "25/25 [==============================] - 2s 79ms/step - loss: 0.4703\n",
      "Epoch 13/20\n",
      "25/25 [==============================] - 2s 80ms/step - loss: 0.4317\n",
      "Epoch 14/20\n",
      "25/25 [==============================] - 2s 80ms/step - loss: 0.3945\n",
      "Epoch 15/20\n",
      "25/25 [==============================] - 2s 78ms/step - loss: 0.3558\n",
      "Epoch 16/20\n",
      "25/25 [==============================] - 2s 78ms/step - loss: 0.3270\n",
      "Epoch 17/20\n",
      "25/25 [==============================] - 2s 78ms/step - loss: 0.3025\n",
      "Epoch 18/20\n",
      "25/25 [==============================] - 2s 78ms/step - loss: 0.2895\n",
      "Epoch 19/20\n",
      "25/25 [==============================] - 2s 81ms/step - loss: 0.2862\n",
      "Epoch 20/20\n",
      "25/25 [==============================] - 2s 81ms/step - loss: 0.2806\n"
     ]
    },
    {
     "data": {
      "text/plain": [
       "<keras.src.callbacks.History at 0x2c6d8c2d0>"
      ]
     },
     "execution_count": 193,
     "metadata": {},
     "output_type": "execute_result"
    }
   ],
   "source": [
    "\n",
    "model.fit([train_left_images, train_right_images], labels, epochs=20, batch_size=128)"
   ]
  },
  {
   "cell_type": "code",
   "execution_count": null,
   "metadata": {},
   "outputs": [
    {
     "name": "stdout",
     "output_type": "stream",
     "text": [
      "250/250 [==============================] - 2s 9ms/step - loss: 17.4575\n",
      "Validation loss: 17.457481384277344\n"
     ]
    }
   ],
   "source": [
    "val_loss = model.evaluate([np.array(val_left_images), np.array(val_right_images)], np.array(val_labels))\n",
    "print(f\"Validation loss: {val_loss}\")"
   ]
  },
  {
   "cell_type": "code",
   "execution_count": null,
   "metadata": {},
   "outputs": [
    {
     "name": "stdout",
     "output_type": "stream",
     "text": [
      "250/250 [==============================] - 2s 9ms/step\n",
      "Validation accuracy: 0.055375\n"
     ]
    }
   ],
   "source": [
    "def compute_accuracy(predictions, labels, threshold=0.5):\n",
    "    \"\"\"\n",
    "    Compute classification accuracy with a fixed threshold on distances.\n",
    "    \"\"\"\n",
    "    # 根据阈值进行分类预测\n",
    "    pred_labels = (predictions.ravel() < threshold).astype(int)\n",
    "    \n",
    "    return np.mean(pred_labels == labels)\n",
    "\n",
    "# 使用模型预测验证集上的距离\n",
    "predictions = model.predict([np.array(val_left_images), np.array(val_right_images)])\n",
    "\n",
    "# 计算准确率\n",
    "accuracy = compute_accuracy(predictions, np.array(val_labels))\n",
    "print(f\"Validation accuracy: {accuracy}\")\n"
   ]
  },
  {
   "cell_type": "code",
   "execution_count": null,
   "metadata": {},
   "outputs": [
    {
     "data": {
      "text/plain": [
       "3200"
      ]
     },
     "execution_count": 16,
     "metadata": {},
     "output_type": "execute_result"
    }
   ],
   "source": [
    "train_format_data = load_data_from_pkl('train_formated_data.pkl')\n",
    "len(train_format_data)"
   ]
  },
  {
   "cell_type": "code",
   "execution_count": null,
   "metadata": {},
   "outputs": [],
   "source": [
    "# get label = 0's pairs\n",
    "\n",
    "train_label_0 = train_format_data[:5]"
   ]
  },
  {
   "cell_type": "code",
   "execution_count": null,
   "metadata": {},
   "outputs": [],
   "source": []
  }
 ],
 "metadata": {
  "kernelspec": {
   "display_name": "base",
   "language": "python",
   "name": "python3"
  },
  "language_info": {
   "codemirror_mode": {
    "name": "ipython",
    "version": 3
   },
   "file_extension": ".py",
   "mimetype": "text/x-python",
   "name": "python",
   "nbconvert_exporter": "python",
   "pygments_lexer": "ipython3",
   "version": "3.11.3"
  },
  "orig_nbformat": 4
 },
 "nbformat": 4,
 "nbformat_minor": 2
}
